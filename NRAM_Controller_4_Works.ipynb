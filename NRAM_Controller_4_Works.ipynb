{
  "nbformat": 4,
  "nbformat_minor": 0,
  "metadata": {
    "colab": {
      "name": "NRAM - Controller-4-Works.ipynb",
      "version": "0.3.2",
      "provenance": [],
      "collapsed_sections": []
    },
    "kernelspec": {
      "name": "python3",
      "display_name": "Python 3"
    },
    "accelerator": "GPU"
  },
  "cells": [
    {
      "cell_type": "markdown",
      "metadata": {
        "id": "Jiig7MT1g6X7",
        "colab_type": "text"
      },
      "source": [
        "# NRAM Implementation"
      ]
    },
    {
      "cell_type": "markdown",
      "metadata": {
        "id": "rGVz5HwlhDtX",
        "colab_type": "text"
      },
      "source": [
        "## Initial Setup"
      ]
    },
    {
      "cell_type": "markdown",
      "metadata": {
        "id": "OjRq1i1ngydI",
        "colab_type": "text"
      },
      "source": [
        "### Import libraries"
      ]
    },
    {
      "cell_type": "code",
      "metadata": {
        "id": "j5SUYTG7mkYz",
        "colab_type": "code",
        "colab": {}
      },
      "source": [
        "from __future__ import print_function\n",
        "\n",
        "import numpy as np\n",
        "import tensorflow as tf\n",
        "\n",
        "from tensorflow.keras import layers\n",
        "\n",
        "import matplotlib.pyplot as plt\n",
        "\n",
        "tf.enable_eager_execution()"
      ],
      "execution_count": 0,
      "outputs": []
    },
    {
      "cell_type": "markdown",
      "metadata": {
        "id": "T4ApKdVugtiT",
        "colab_type": "text"
      },
      "source": [
        "### Create Modules / Gates"
      ]
    },
    {
      "cell_type": "code",
      "metadata": {
        "id": "zGWfXinzlzuM",
        "colab_type": "code",
        "colab": {}
      },
      "source": [
        "def zeroModule(a, M):\n",
        "    zero = np.asarray([0])\n",
        "    return tf.one_hot(zero, M)"
      ],
      "execution_count": 0,
      "outputs": []
    },
    {
      "cell_type": "code",
      "metadata": {
        "id": "vMr3C4Bpm_F5",
        "colab_type": "code",
        "colab": {}
      },
      "source": [
        "def oneModule(a, M):\n",
        "    one = np.asarray([1])\n",
        "    return tf.one_hot(one, M)"
      ],
      "execution_count": 0,
      "outputs": []
    },
    {
      "cell_type": "code",
      "metadata": {
        "id": "nha3eY8X1IhT",
        "colab_type": "code",
        "colab": {}
      },
      "source": [
        "def twoModule(a, M):\n",
        "    two = np.asarray([2])\n",
        "    return tf.one_hot(two, M)"
      ],
      "execution_count": 0,
      "outputs": []
    },
    {
      "cell_type": "code",
      "metadata": {
        "id": "kMZFHeLn1NTQ",
        "colab_type": "code",
        "colab": {}
      },
      "source": [
        "def incModule(a, M):\n",
        "  return tf.roll(a, shift=1, axis=1)"
      ],
      "execution_count": 0,
      "outputs": []
    },
    {
      "cell_type": "code",
      "metadata": {
        "id": "_p8cSsZSF5bq",
        "colab_type": "code",
        "colab": {}
      },
      "source": [
        "def addModule(a, b, M):\n",
        "  aVal = tf.argmax(a, axis=1)\n",
        "  bVal = tf.argmax(b, axis=1)\n",
        "  addVal = tf.mod(tf.add(aVal, bVal), a.shape[1])\n",
        "  return tf.one_hot(addVal, a.shape[1])"
      ],
      "execution_count": 0,
      "outputs": []
    },
    {
      "cell_type": "code",
      "metadata": {
        "id": "ntBMShoxLb_E",
        "colab_type": "code",
        "colab": {}
      },
      "source": [
        "def subModule(a, b, M):\n",
        "  aVal = tf.argmax(a, axis=1)\n",
        "  bVal = tf.argmax(b, axis=1)\n",
        "  subtractVal = tf.mod(tf.subtract(aVal, bVal), M)\n",
        "  return tf.one_hot(subtractVal, M)"
      ],
      "execution_count": 0,
      "outputs": []
    },
    {
      "cell_type": "code",
      "metadata": {
        "id": "5YjJ8iexM5bC",
        "colab_type": "code",
        "colab": {}
      },
      "source": [
        "def decModule(a, M):\n",
        "  return tf.roll(a, shift=-1, axis=1)"
      ],
      "execution_count": 0,
      "outputs": []
    },
    {
      "cell_type": "code",
      "metadata": {
        "id": "vDTe2xahNgaz",
        "colab_type": "code",
        "colab": {}
      },
      "source": [
        "def lessModule(a, b, M):\n",
        "  aVal = tf.argmax(a, axis=1)\n",
        "  bVal = tf.argmax(b, axis=1)\n",
        "  lessVal = tf.less(aVal, bVal)\n",
        "  return tf.one_hot(tf.cast(lessVal, tf.int64), M)"
      ],
      "execution_count": 0,
      "outputs": []
    },
    {
      "cell_type": "code",
      "metadata": {
        "id": "2g3ZQKmUQpJM",
        "colab_type": "code",
        "colab": {}
      },
      "source": [
        "def lessOrEqualThenModule(a, b, M):\n",
        "  aVal = tf.argmax(a, axis=1)\n",
        "  bVal = tf.argmax(b, axis=1)\n",
        "  lessVal = tf.less_equal(aVal, bVal)\n",
        "  return tf.one_hot(tf.cast(lessVal, tf.int64), M)"
      ],
      "execution_count": 0,
      "outputs": []
    },
    {
      "cell_type": "code",
      "metadata": {
        "id": "vHjdqWraQ0iw",
        "colab_type": "code",
        "colab": {}
      },
      "source": [
        "def equalModule(a, b, M):\n",
        "  aVal = tf.argmax(a, axis=1)\n",
        "  bVal = tf.argmax(b, axis=1)\n",
        "  equalVal = tf.equal(aVal, bVal)\n",
        "  return tf.one_hot(tf.cast(equalVal, tf.int64), M)"
      ],
      "execution_count": 0,
      "outputs": []
    },
    {
      "cell_type": "code",
      "metadata": {
        "id": "33Gou21oRRYD",
        "colab_type": "code",
        "colab": {}
      },
      "source": [
        "def minimumModule(a, b, M):\n",
        "  aVal = tf.argmax(a, axis=1)\n",
        "  bVal = tf.argmax(b, axis=1)\n",
        "  minimumVal = tf.minimum(aVal, bVal)\n",
        "  return tf.one_hot(tf.cast(minimumVal, tf.int64), M)"
      ],
      "execution_count": 0,
      "outputs": []
    },
    {
      "cell_type": "code",
      "metadata": {
        "id": "sNFEl44sRrpi",
        "colab_type": "code",
        "colab": {}
      },
      "source": [
        "def maximumModule(a, b, M):\n",
        "  aVal = tf.argmax(a, axis=1)\n",
        "  bVal = tf.argmax(b, axis=1)\n",
        "  maximumVal = tf.maximum(aVal, bVal)\n",
        "  return tf.one_hot(tf.cast(maximumVal, tf.int64), M)"
      ],
      "execution_count": 0,
      "outputs": []
    },
    {
      "cell_type": "markdown",
      "metadata": {
        "id": "3fdYDwRbgclC",
        "colab_type": "text"
      },
      "source": [
        "### Test Modules"
      ]
    },
    {
      "cell_type": "code",
      "metadata": {
        "id": "609r8cUKwgF2",
        "colab_type": "code",
        "colab": {}
      },
      "source": [
        "#Note : Temporary M Values\n",
        "M = 4"
      ],
      "execution_count": 0,
      "outputs": []
    },
    {
      "cell_type": "code",
      "metadata": {
        "id": "ArqxHhD0UcKJ",
        "colab_type": "code",
        "outputId": "06575a80-ae88-4e75-acbf-0ffe3d0612e7",
        "colab": {
          "base_uri": "https://localhost:8080/",
          "height": 68
        }
      },
      "source": [
        "incModule(tf.one_hot([4, 9], M), M)"
      ],
      "execution_count": 0,
      "outputs": [
        {
          "output_type": "execute_result",
          "data": {
            "text/plain": [
              "<tf.Tensor: id=7, shape=(2, 4), dtype=float32, numpy=\n",
              "array([[0., 0., 0., 0.],\n",
              "       [0., 0., 0., 0.]], dtype=float32)>"
            ]
          },
          "metadata": {
            "tags": []
          },
          "execution_count": 15
        }
      ]
    },
    {
      "cell_type": "code",
      "metadata": {
        "id": "fK0ApcZ6VJcN",
        "colab_type": "code",
        "outputId": "168c415b-fd3c-437a-da31-dfe7c350e8da",
        "colab": {
          "base_uri": "https://localhost:8080/",
          "height": 68
        }
      },
      "source": [
        "decModule(tf.one_hot([4, 9], M), M)"
      ],
      "execution_count": 0,
      "outputs": [
        {
          "output_type": "execute_result",
          "data": {
            "text/plain": [
              "<tf.Tensor: id=16, shape=(2, 4), dtype=float32, numpy=\n",
              "array([[0., 0., 0., 0.],\n",
              "       [0., 0., 0., 0.]], dtype=float32)>"
            ]
          },
          "metadata": {
            "tags": []
          },
          "execution_count": 16
        }
      ]
    },
    {
      "cell_type": "code",
      "metadata": {
        "id": "ycjL_7EpI-t-",
        "colab_type": "code",
        "outputId": "4dcd92f0-4cc0-467c-f7d2-3afcbaf665ff",
        "colab": {
          "base_uri": "https://localhost:8080/",
          "height": 68
        }
      },
      "source": [
        "addModule(tf.one_hot([7, 8], M), tf.one_hot([6, 7], M), M)"
      ],
      "execution_count": 0,
      "outputs": [
        {
          "output_type": "execute_result",
          "data": {
            "text/plain": [
              "<tf.Tensor: id=38, shape=(2, 4), dtype=float32, numpy=\n",
              "array([[1., 0., 0., 0.],\n",
              "       [1., 0., 0., 0.]], dtype=float32)>"
            ]
          },
          "metadata": {
            "tags": []
          },
          "execution_count": 17
        }
      ]
    },
    {
      "cell_type": "code",
      "metadata": {
        "id": "dax-xXeMgufM",
        "colab_type": "code",
        "outputId": "08d6b44f-d77a-41b2-f951-d5a0b26c4297",
        "colab": {
          "base_uri": "https://localhost:8080/",
          "height": 34
        }
      },
      "source": [
        "addModule(np.array([[0., 0., 0., 0.5, 0.5]]), np.array([[0., 0., 0., 1., 0.]]), M)"
      ],
      "execution_count": 0,
      "outputs": [
        {
          "output_type": "execute_result",
          "data": {
            "text/plain": [
              "<tf.Tensor: id=52, shape=(1, 5), dtype=float32, numpy=array([[0., 1., 0., 0., 0.]], dtype=float32)>"
            ]
          },
          "metadata": {
            "tags": []
          },
          "execution_count": 18
        }
      ]
    },
    {
      "cell_type": "markdown",
      "metadata": {
        "id": "PvK-yReagQkw",
        "colab_type": "text"
      },
      "source": [
        "**Note: One hot of values greater than M is 0**"
      ]
    },
    {
      "cell_type": "code",
      "metadata": {
        "id": "M8TZ2g58gRgR",
        "colab_type": "code",
        "outputId": "fa5a4ccf-cb3c-4580-e6fc-48ce7862a1c9",
        "colab": {
          "base_uri": "https://localhost:8080/",
          "height": 68
        }
      },
      "source": [
        "tf.one_hot([7, 8], M)"
      ],
      "execution_count": 0,
      "outputs": [
        {
          "output_type": "execute_result",
          "data": {
            "text/plain": [
              "<tf.Tensor: id=58, shape=(2, 4), dtype=float32, numpy=\n",
              "array([[0., 0., 0., 0.],\n",
              "       [0., 0., 0., 0.]], dtype=float32)>"
            ]
          },
          "metadata": {
            "tags": []
          },
          "execution_count": 19
        }
      ]
    },
    {
      "cell_type": "code",
      "metadata": {
        "id": "IvnYQqPsLl20",
        "colab_type": "code",
        "outputId": "1ed85d40-33fd-4a45-98c4-2627834baa6c",
        "colab": {
          "base_uri": "https://localhost:8080/",
          "height": 68
        }
      },
      "source": [
        "subModule(tf.one_hot([4, 8], M), tf.one_hot([6, 7], M), M)"
      ],
      "execution_count": 0,
      "outputs": [
        {
          "output_type": "execute_result",
          "data": {
            "text/plain": [
              "<tf.Tensor: id=80, shape=(2, 4), dtype=float32, numpy=\n",
              "array([[1., 0., 0., 0.],\n",
              "       [1., 0., 0., 0.]], dtype=float32)>"
            ]
          },
          "metadata": {
            "tags": []
          },
          "execution_count": 20
        }
      ]
    },
    {
      "cell_type": "code",
      "metadata": {
        "id": "KRczko6xMStv",
        "colab_type": "code",
        "outputId": "4a0ddc2a-6058-4c06-80ba-fb4a6b469afb",
        "colab": {
          "base_uri": "https://localhost:8080/",
          "height": 68
        }
      },
      "source": [
        "incModule(tf.one_hot([4, 9], M), M)"
      ],
      "execution_count": 0,
      "outputs": [
        {
          "output_type": "execute_result",
          "data": {
            "text/plain": [
              "<tf.Tensor: id=89, shape=(2, 4), dtype=float32, numpy=\n",
              "array([[0., 0., 0., 0.],\n",
              "       [0., 0., 0., 0.]], dtype=float32)>"
            ]
          },
          "metadata": {
            "tags": []
          },
          "execution_count": 21
        }
      ]
    },
    {
      "cell_type": "code",
      "metadata": {
        "id": "7FmUCjtIND3u",
        "colab_type": "code",
        "outputId": "76b622ef-1eb1-4b46-dee8-022ef9a85f6b",
        "colab": {
          "base_uri": "https://localhost:8080/",
          "height": 68
        }
      },
      "source": [
        "decModule(tf.one_hot([4, 9], M), M)"
      ],
      "execution_count": 0,
      "outputs": [
        {
          "output_type": "execute_result",
          "data": {
            "text/plain": [
              "<tf.Tensor: id=98, shape=(2, 4), dtype=float32, numpy=\n",
              "array([[0., 0., 0., 0.],\n",
              "       [0., 0., 0., 0.]], dtype=float32)>"
            ]
          },
          "metadata": {
            "tags": []
          },
          "execution_count": 22
        }
      ]
    },
    {
      "cell_type": "code",
      "metadata": {
        "id": "_SkTggdrOe64",
        "colab_type": "code",
        "outputId": "2b79a0c7-bcf2-4200-9559-37f10815e1a7",
        "colab": {
          "base_uri": "https://localhost:8080/",
          "height": 68
        }
      },
      "source": [
        "lessModule(tf.one_hot([8, 5], M), tf.one_hot([6, 7], M), M)"
      ],
      "execution_count": 0,
      "outputs": [
        {
          "output_type": "execute_result",
          "data": {
            "text/plain": [
              "<tf.Tensor: id=119, shape=(2, 4), dtype=float32, numpy=\n",
              "array([[1., 0., 0., 0.],\n",
              "       [1., 0., 0., 0.]], dtype=float32)>"
            ]
          },
          "metadata": {
            "tags": []
          },
          "execution_count": 23
        }
      ]
    },
    {
      "cell_type": "code",
      "metadata": {
        "id": "k0d33tqhRDgU",
        "colab_type": "code",
        "outputId": "c12efd65-def9-4334-fb2c-cbbee4822cb4",
        "colab": {
          "base_uri": "https://localhost:8080/",
          "height": 68
        }
      },
      "source": [
        "lessOrEqualThenModule(tf.one_hot([8, 5], M), tf.one_hot([8, 7], M), M)"
      ],
      "execution_count": 0,
      "outputs": [
        {
          "output_type": "execute_result",
          "data": {
            "text/plain": [
              "<tf.Tensor: id=140, shape=(2, 4), dtype=float32, numpy=\n",
              "array([[0., 1., 0., 0.],\n",
              "       [0., 1., 0., 0.]], dtype=float32)>"
            ]
          },
          "metadata": {
            "tags": []
          },
          "execution_count": 24
        }
      ]
    },
    {
      "cell_type": "code",
      "metadata": {
        "id": "7fK2kzaWRDsD",
        "colab_type": "code",
        "outputId": "8d9b4da0-bb73-430b-a48c-56b782aea565",
        "colab": {
          "base_uri": "https://localhost:8080/",
          "height": 68
        }
      },
      "source": [
        "equalModule(tf.one_hot([8, 5], M), tf.one_hot([8, 7], M), M)"
      ],
      "execution_count": 0,
      "outputs": [
        {
          "output_type": "execute_result",
          "data": {
            "text/plain": [
              "<tf.Tensor: id=161, shape=(2, 4), dtype=float32, numpy=\n",
              "array([[0., 1., 0., 0.],\n",
              "       [0., 1., 0., 0.]], dtype=float32)>"
            ]
          },
          "metadata": {
            "tags": []
          },
          "execution_count": 25
        }
      ]
    },
    {
      "cell_type": "code",
      "metadata": {
        "id": "pigT9MXeRnGU",
        "colab_type": "code",
        "outputId": "09cbc20a-ee34-4af2-be15-74befdba5f29",
        "colab": {
          "base_uri": "https://localhost:8080/",
          "height": 68
        }
      },
      "source": [
        "minimumModule(tf.one_hot([8, 5], M), tf.one_hot([8, 7], M), M)"
      ],
      "execution_count": 0,
      "outputs": [
        {
          "output_type": "execute_result",
          "data": {
            "text/plain": [
              "<tf.Tensor: id=181, shape=(2, 4), dtype=float32, numpy=\n",
              "array([[1., 0., 0., 0.],\n",
              "       [1., 0., 0., 0.]], dtype=float32)>"
            ]
          },
          "metadata": {
            "tags": []
          },
          "execution_count": 26
        }
      ]
    },
    {
      "cell_type": "markdown",
      "metadata": {
        "id": "3BXUJ9lmiEja",
        "colab_type": "text"
      },
      "source": [
        "### Circuit Implementation"
      ]
    },
    {
      "cell_type": "code",
      "metadata": {
        "id": "5M1uj2sjWZ5u",
        "colab_type": "code",
        "colab": {}
      },
      "source": [
        "def dotProduct(a, b):\n",
        "  aT = tf.transpose(a)\n",
        "  aT = tf.reshape(aT, [a.shape[0],a.shape[2],a.shape[1]])\n",
        "  return tf.tensordot(aT, b, axes=1)"
      ],
      "execution_count": 0,
      "outputs": []
    },
    {
      "cell_type": "code",
      "metadata": {
        "id": "NwIjw_u3YfAm",
        "colab_type": "code",
        "outputId": "b3b0847f-e237-438c-91b9-f19be5571df9",
        "colab": {
          "base_uri": "https://localhost:8080/",
          "height": 34
        }
      },
      "source": [
        "a = np.array([[\n",
        "    [1., 2., 3.],\n",
        "    [4., 5., 6.],\n",
        "]])\n",
        "\n",
        "b = np.array([1., 0.])\n",
        "dotProduct(a, b)"
      ],
      "execution_count": 0,
      "outputs": [
        {
          "output_type": "execute_result",
          "data": {
            "text/plain": [
              "<tf.Tensor: id=199, shape=(1, 3), dtype=float64, numpy=array([[1., 2., 3.]])>"
            ]
          },
          "metadata": {
            "tags": []
          },
          "execution_count": 28
        }
      ]
    },
    {
      "cell_type": "markdown",
      "metadata": {
        "id": "u6c9aQ_vidJ2",
        "colab_type": "text"
      },
      "source": [
        "#### Gates List"
      ]
    },
    {
      "cell_type": "code",
      "metadata": {
        "id": "szypKQYPHhz_",
        "colab_type": "code",
        "colab": {}
      },
      "source": [
        "gates = [incModule, decModule, addModule]"
      ],
      "execution_count": 0,
      "outputs": []
    },
    {
      "cell_type": "code",
      "metadata": {
        "id": "3t2_sRNQLxQA",
        "colab_type": "code",
        "outputId": "5183ce7b-7d36-4baf-8900-aa5997bf67ac",
        "colab": {
          "base_uri": "https://localhost:8080/",
          "height": 68
        }
      },
      "source": [
        "gates[0](tf.one_hot([1, 9], M), M)"
      ],
      "execution_count": 0,
      "outputs": [
        {
          "output_type": "execute_result",
          "data": {
            "text/plain": [
              "<tf.Tensor: id=208, shape=(2, 4), dtype=float32, numpy=\n",
              "array([[0., 0., 1., 0.],\n",
              "       [0., 0., 0., 0.]], dtype=float32)>"
            ]
          },
          "metadata": {
            "tags": []
          },
          "execution_count": 30
        }
      ]
    },
    {
      "cell_type": "markdown",
      "metadata": {
        "id": "ufUl6gMukbfv",
        "colab_type": "text"
      },
      "source": [
        "#### Gate Controller Output"
      ]
    },
    {
      "cell_type": "markdown",
      "metadata": {
        "id": "nkJ0U4JQkx6Y",
        "colab_type": "text"
      },
      "source": [
        "Runs the input which is selected by controller values into the gate passed and returns the output from the gate"
      ]
    },
    {
      "cell_type": "code",
      "metadata": {
        "id": "zzzDSRfSMCG3",
        "colab_type": "code",
        "colab": {}
      },
      "source": [
        "def gateOutput(gate, inputs, controllerValues, M):\n",
        "  if(controllerValues.shape[0] > 1):\n",
        "    gateInputA = dotProduct(inputs, controllerValues[0])\n",
        "    gateInputB = dotProduct(inputs, controllerValues[1])\n",
        "    output = gate(gateInputA, gateInputB, M)\n",
        "  else:\n",
        "    gateInputA = dotProduct(inputs, controllerValues[0])\n",
        "    output = gate(gateInputA, M)\n",
        "  \n",
        "  return output"
      ],
      "execution_count": 0,
      "outputs": []
    },
    {
      "cell_type": "code",
      "metadata": {
        "id": "WJtRToqMb-t6",
        "colab_type": "code",
        "colab": {}
      },
      "source": [
        "ip = np.array([[\n",
        "  [1., 0., 0., 0., 0.],\n",
        "  [0., 1., 0., 0., 0.],\n",
        "  [0., 0., 0., 1., 0.],\n",
        "  [0., 1., 0., 0., 0.]\n",
        " ]])"
      ],
      "execution_count": 0,
      "outputs": []
    },
    {
      "cell_type": "code",
      "metadata": {
        "id": "tHk-AU-JcPG1",
        "colab_type": "code",
        "outputId": "78909af4-d047-46b3-fadd-7807239cdcf9",
        "colab": {
          "base_uri": "https://localhost:8080/",
          "height": 34
        }
      },
      "source": [
        "cp = np.array([[0., 0., 0., 1.],\n",
        "              [0., 0., 1., 0.]])\n",
        "cp.shape"
      ],
      "execution_count": 0,
      "outputs": [
        {
          "output_type": "execute_result",
          "data": {
            "text/plain": [
              "(2, 4)"
            ]
          },
          "metadata": {
            "tags": []
          },
          "execution_count": 33
        }
      ]
    },
    {
      "cell_type": "markdown",
      "metadata": {
        "id": "-v88H8xMIJNb",
        "colab_type": "text"
      },
      "source": [
        "Run gate to check output - Adds ip 4th value with 3rd value"
      ]
    },
    {
      "cell_type": "code",
      "metadata": {
        "id": "-QwYscutXBAM",
        "colab_type": "code",
        "colab": {}
      },
      "source": [
        "outputVal = gateOutput(gates[2], ip, cp, M)"
      ],
      "execution_count": 0,
      "outputs": []
    },
    {
      "cell_type": "code",
      "metadata": {
        "id": "2Yib6hWAprpV",
        "colab_type": "code",
        "outputId": "7cab470a-52db-4d2d-951a-b8feb3dca40f",
        "colab": {
          "base_uri": "https://localhost:8080/",
          "height": 34
        }
      },
      "source": [
        "outputVal"
      ],
      "execution_count": 0,
      "outputs": [
        {
          "output_type": "execute_result",
          "data": {
            "text/plain": [
              "<tf.Tensor: id=254, shape=(1, 5), dtype=float32, numpy=array([[0., 0., 0., 0., 1.]], dtype=float32)>"
            ]
          },
          "metadata": {
            "tags": []
          },
          "execution_count": 35
        }
      ]
    },
    {
      "cell_type": "code",
      "metadata": {
        "id": "v6GT03BdqqW3",
        "colab_type": "code",
        "outputId": "2b7117ad-8001-4d3c-b34c-82bb4a393f0d",
        "colab": {
          "base_uri": "https://localhost:8080/",
          "height": 102
        }
      },
      "source": [
        "tf.dtypes.cast(ip, tf.float32)"
      ],
      "execution_count": 0,
      "outputs": [
        {
          "output_type": "execute_result",
          "data": {
            "text/plain": [
              "<tf.Tensor: id=257, shape=(1, 4, 5), dtype=float32, numpy=\n",
              "array([[[1., 0., 0., 0., 0.],\n",
              "        [0., 1., 0., 0., 0.],\n",
              "        [0., 0., 0., 1., 0.],\n",
              "        [0., 1., 0., 0., 0.]]], dtype=float32)>"
            ]
          },
          "metadata": {
            "tags": []
          },
          "execution_count": 36
        }
      ]
    },
    {
      "cell_type": "markdown",
      "metadata": {
        "id": "SFsUtDGcytne",
        "colab_type": "text"
      },
      "source": [
        "For adding the output to the registers"
      ]
    },
    {
      "cell_type": "code",
      "metadata": {
        "id": "mw9hvmJKp4Y0",
        "colab_type": "code",
        "outputId": "e5563dd0-002e-4800-e6f5-11865c0b2eb5",
        "colab": {
          "base_uri": "https://localhost:8080/",
          "height": 119
        }
      },
      "source": [
        "tf.concat([ip, [outputVal]], axis=1)"
      ],
      "execution_count": 0,
      "outputs": [
        {
          "output_type": "execute_result",
          "data": {
            "text/plain": [
              "<tf.Tensor: id=263, shape=(1, 5, 5), dtype=float64, numpy=\n",
              "array([[[1., 0., 0., 0., 0.],\n",
              "        [0., 1., 0., 0., 0.],\n",
              "        [0., 0., 0., 1., 0.],\n",
              "        [0., 1., 0., 0., 0.],\n",
              "        [0., 0., 0., 0., 1.]]])>"
            ]
          },
          "metadata": {
            "tags": []
          },
          "execution_count": 37
        }
      ]
    },
    {
      "cell_type": "code",
      "metadata": {
        "id": "wtlsZZwqzQDH",
        "colab_type": "code",
        "outputId": "780ae7a0-41a6-4804-e2a1-7fcc3ce0ae11",
        "colab": {
          "base_uri": "https://localhost:8080/",
          "height": 34
        }
      },
      "source": [
        "zeroModule([], M)"
      ],
      "execution_count": 0,
      "outputs": [
        {
          "output_type": "execute_result",
          "data": {
            "text/plain": [
              "<tf.Tensor: id=269, shape=(1, 4), dtype=float32, numpy=array([[1., 0., 0., 0.]], dtype=float32)>"
            ]
          },
          "metadata": {
            "tags": []
          },
          "execution_count": 38
        }
      ]
    },
    {
      "cell_type": "markdown",
      "metadata": {
        "id": "0XIeyQKgA7rR",
        "colab_type": "text"
      },
      "source": [
        "#### Input Register"
      ]
    },
    {
      "cell_type": "code",
      "metadata": {
        "id": "g6LRxD2_0Dpf",
        "colab_type": "code",
        "colab": {}
      },
      "source": [
        "def registerValueModule(a):\n",
        "    aVal = np.asarray([a])\n",
        "    return tf.one_hot(aVal, M)"
      ],
      "execution_count": 0,
      "outputs": []
    },
    {
      "cell_type": "code",
      "metadata": {
        "id": "M2eRTYos0Lib",
        "colab_type": "code",
        "outputId": "a8e3f114-e77b-4953-c76f-5c48e2d5d3b5",
        "colab": {
          "base_uri": "https://localhost:8080/",
          "height": 34
        }
      },
      "source": [
        "registerValueModule(2)"
      ],
      "execution_count": 0,
      "outputs": [
        {
          "output_type": "execute_result",
          "data": {
            "text/plain": [
              "<tf.Tensor: id=275, shape=(1, 4), dtype=float32, numpy=array([[0., 0., 1., 0.]], dtype=float32)>"
            ]
          },
          "metadata": {
            "tags": []
          },
          "execution_count": 40
        }
      ]
    },
    {
      "cell_type": "code",
      "metadata": {
        "id": "rIsnozvvyq1X",
        "colab_type": "code",
        "colab": {}
      },
      "source": [
        "registers = tf.concat([registerValueModule(0), registerValueModule(1), registerValueModule(3)], axis=0)"
      ],
      "execution_count": 0,
      "outputs": []
    },
    {
      "cell_type": "markdown",
      "metadata": {
        "id": "K_Y2_qNYBMOY",
        "colab_type": "text"
      },
      "source": [
        "**Registers = [0,1,3]**"
      ]
    },
    {
      "cell_type": "code",
      "metadata": {
        "id": "o0-ZLeDezsj9",
        "colab_type": "code",
        "colab": {}
      },
      "source": [
        "registers = tf.reshape(registers, shape=[1, registers.shape[0], registers.shape[1]])"
      ],
      "execution_count": 0,
      "outputs": []
    },
    {
      "cell_type": "code",
      "metadata": {
        "id": "yFAr3khI06Cs",
        "colab_type": "code",
        "outputId": "a17a0e81-adc8-43d7-9b45-669ad85a7c0e",
        "colab": {
          "base_uri": "https://localhost:8080/",
          "height": 85
        }
      },
      "source": [
        "registers"
      ],
      "execution_count": 0,
      "outputs": [
        {
          "output_type": "execute_result",
          "data": {
            "text/plain": [
              "<tf.Tensor: id=295, shape=(1, 3, 4), dtype=float32, numpy=\n",
              "array([[[1., 0., 0., 0.],\n",
              "        [0., 1., 0., 0.],\n",
              "        [0., 0., 0., 1.]]], dtype=float32)>"
            ]
          },
          "metadata": {
            "tags": []
          },
          "execution_count": 43
        }
      ]
    },
    {
      "cell_type": "markdown",
      "metadata": {
        "id": "eyRqTvVqBf34",
        "colab_type": "text"
      },
      "source": [
        "#### Update data"
      ]
    },
    {
      "cell_type": "code",
      "metadata": {
        "id": "-aMLqPU7h049",
        "colab_type": "code",
        "colab": {}
      },
      "source": [
        "def runTimeStep(gates, registers, controllerValues):\n",
        "  for i in range(len(gates)):\n",
        "    output = gateOutput(gates[i], registers, controllerValues[i], M)\n",
        "    registers = tf.concat([registers, [output]], axis=1)\n",
        "\n",
        "  output_registers = []\n",
        "  for i in range(len(gates), len(controllerValues)):\n",
        "    output = dotProduct(registers, controllerValues[i])\n",
        "    output_registers.append(output)\n",
        "  \n",
        "  output_registers = tf.stack(output_registers, axis=1)\n",
        "  \n",
        "  return output_registers"
      ],
      "execution_count": 0,
      "outputs": []
    },
    {
      "cell_type": "markdown",
      "metadata": {
        "id": "6g-9SmRHGEbw",
        "colab_type": "text"
      },
      "source": [
        "**Circuit Testing 1**"
      ]
    },
    {
      "cell_type": "code",
      "metadata": {
        "id": "JAQOP0RvF7GV",
        "colab_type": "code",
        "outputId": "d46787ff-07b8-4681-8472-9c7b491d9cde",
        "colab": {
          "base_uri": "https://localhost:8080/",
          "height": 187
        }
      },
      "source": [
        "# registers = [2, 1, 3]\n",
        "registers = tf.concat([registerValueModule(2), registerValueModule(1), registerValueModule(3)], axis=0)\n",
        "registers = tf.reshape(registers, shape=[1, registers.shape[0], registers.shape[1]])\n",
        "\n",
        "print(\"Input registers: \", tf.argmax(registers, axis=2))\n",
        "\n",
        "# Gatest -> Increment, Decrement, Addition\n",
        "gates = [incModule, decModule, addModule]\n",
        "\n",
        "# Increment input r1 -> decrement output o1 -> add output o2 + input r1\n",
        "controllerValues_ = [\n",
        "    [[0, 1, 0]],\n",
        "    [[0, 0, 0, 1]],\n",
        "    [[0, 0, 0, 0, 1],\n",
        "     [0, 1, 0, 0, 0]]\n",
        "]\n",
        "\n",
        "# Save the input r2 -> output r0, input r0 -> output r1, last gate output -> output r2\n",
        "registerCoefficients_ = [\n",
        "    [0, 0, 1, 0, 0, 0],\n",
        "    [1, 0, 0, 0, 0, 0],\n",
        "    [0, 0, 0, 0, 0, 1]\n",
        "]\n",
        "\n",
        "controllerValues = []\n",
        "for value in controllerValues_ + registerCoefficients_:\n",
        "  controllerValues.append(tf.dtypes.cast(value, tf.float32))\n",
        "\n",
        "# Calling the function to run the complete circuit\n",
        "output_registers = runTimeStep(gates, registers, controllerValues)\n",
        "\n",
        "print(\"\\noutput_registers:\\n\", output_registers)\n",
        "print(\"\\noutput_registers:\\n\", tf.argmax(output_registers, axis=2))"
      ],
      "execution_count": 0,
      "outputs": [
        {
          "output_type": "stream",
          "text": [
            "Input registers:  tf.Tensor([[2 1 3]], shape=(1, 3), dtype=int64)\n",
            "\n",
            "output_registers:\n",
            " tf.Tensor(\n",
            "[[[0. 0. 0. 1.]\n",
            "  [0. 0. 1. 0.]\n",
            "  [0. 0. 1. 0.]]], shape=(1, 3, 4), dtype=float32)\n",
            "\n",
            "output_registers:\n",
            " tf.Tensor([[3 2 2]], shape=(1, 3), dtype=int64)\n"
          ],
          "name": "stdout"
        }
      ]
    },
    {
      "cell_type": "markdown",
      "metadata": {
        "id": "7niScH_Df2Oo",
        "colab_type": "text"
      },
      "source": [
        "**Circuit Testing 2**"
      ]
    },
    {
      "cell_type": "code",
      "metadata": {
        "id": "Joyn2Q0kuAKE",
        "colab_type": "code",
        "outputId": "6f433c8b-6122-41fb-d90a-8e8617e4e037",
        "colab": {
          "base_uri": "https://localhost:8080/",
          "height": 459
        }
      },
      "source": [
        "gates = [incModule]\n",
        "\n",
        "controllerValues_ = [\n",
        "    [[1, 0, 0]]\n",
        "]\n",
        "\n",
        "registerCoefficients_ = [\n",
        "    [0, 0, 0, 1],\n",
        "    [0, 1, 0, 0],\n",
        "    [0, 0, 1, 0]\n",
        "]\n",
        "\n",
        "controllerValues = []\n",
        "for value in controllerValues_ + registerCoefficients_:\n",
        "  controllerValues.append(tf.dtypes.cast(value, tf.float32))\n",
        "\n",
        "# First set of input values\n",
        "registers = tf.concat([registerValueModule(1), registerValueModule(1), registerValueModule(3)], axis=0)\n",
        "registers = tf.reshape(registers, shape=[1, registers.shape[0], registers.shape[1]])\n",
        "\n",
        "print(\"Input register set 1: \", tf.argmax(registers, axis=2))\n",
        "\n",
        "print(\"\\nRunning input r0 -> increment -> output r0\")\n",
        "\n",
        "# Calling the function to run the complete circuit\n",
        "output_registers = runTimeStep(gates, registers, controllerValues)\n",
        "\n",
        "print(\"\\noutput_registers:\\n\", output_registers)\n",
        "print(\"\\noutput_registers:\\n\", tf.argmax(output_registers, axis=2))\n",
        "\n",
        "\n",
        "# Second set of input values\n",
        "registers = tf.concat([registerValueModule(2), registerValueModule(1), registerValueModule(3)], axis=0)\n",
        "registers = tf.reshape(registers, shape=[1, registers.shape[0], registers.shape[1]])\n",
        "\n",
        "print(\"\\n\\nInput register set 2: \", tf.argmax(registers, axis=2))\n",
        "\n",
        "print(\"\\nRunning input r0 -> increment -> output r0\")\n",
        "# Calling the function to run the complete circuit\n",
        "output_registers = runTimeStep(gates, registers, controllerValues)\n",
        "\n",
        "print(\"\\noutput_registers:\\n\", output_registers)\n",
        "print(\"\\noutput_registers:\\n\", tf.argmax(output_registers, axis=2))"
      ],
      "execution_count": 0,
      "outputs": [
        {
          "output_type": "stream",
          "text": [
            "Input register set 1:  tf.Tensor([[1 1 3]], shape=(1, 3), dtype=int64)\n",
            "\n",
            "Running input r0 -> increment -> output r0\n",
            "\n",
            "output_registers:\n",
            " tf.Tensor(\n",
            "[[[0. 0. 1. 0.]\n",
            "  [0. 1. 0. 0.]\n",
            "  [0. 0. 0. 1.]]], shape=(1, 3, 4), dtype=float32)\n",
            "\n",
            "output_registers:\n",
            " tf.Tensor([[2 1 3]], shape=(1, 3), dtype=int64)\n",
            "\n",
            "\n",
            "Input register set 2:  tf.Tensor([[2 1 3]], shape=(1, 3), dtype=int64)\n",
            "\n",
            "Running input r0 -> increment -> output r0\n",
            "\n",
            "output_registers:\n",
            " tf.Tensor(\n",
            "[[[0. 0. 0. 1.]\n",
            "  [0. 1. 0. 0.]\n",
            "  [0. 0. 0. 1.]]], shape=(1, 3, 4), dtype=float32)\n",
            "\n",
            "output_registers:\n",
            " tf.Tensor([[3 1 3]], shape=(1, 3), dtype=int64)\n"
          ],
          "name": "stdout"
        }
      ]
    },
    {
      "cell_type": "markdown",
      "metadata": {
        "id": "bfhbghdOjijr",
        "colab_type": "text"
      },
      "source": [
        "### NRAM Controller Neural Network Model"
      ]
    },
    {
      "cell_type": "code",
      "metadata": {
        "id": "WiQlCs6v0Kja",
        "colab_type": "code",
        "colab": {}
      },
      "source": [
        "def runTimeStepNN(gates, registers, controllerValues):\n",
        "  for i in range(len(gates)):\n",
        "    output = gateOutput(gates[i], registers, controllerValues[i], M)\n",
        "    registers = tf.concat([registers, [output]], axis=1)\n",
        "\n",
        "  output_registers = []\n",
        "  for i in range(len(gates), len(controllerValues)):\n",
        "    output = dotProduct(registers, controllerValues[i][0])\n",
        "    output_registers.append(output)\n",
        "  \n",
        "  output_registers = tf.stack(output_registers, axis=1)\n",
        "  \n",
        "  return output_registers"
      ],
      "execution_count": 0,
      "outputs": []
    },
    {
      "cell_type": "code",
      "metadata": {
        "id": "bH6eayDVWVg3",
        "colab_type": "code",
        "colab": {}
      },
      "source": [
        "class NRAMController(tf.keras.Model):\n",
        "   def __init__(self, hidden_dimensions=80, output_dimensions=[3, 4, 4, 4]):\n",
        "      super(NRAMController, self).__init__()\n",
        "      self.Hidden1 = tf.keras.layers.Dense(hidden_dimensions, input_shape=(3,), use_bias=True, activation=\"relu\")\n",
        "      self.Hidden2 = tf.keras.layers.Dense(hidden_dimensions, input_shape=(hidden_dimensions,), use_bias=True, activation=\"relu\")\n",
        "\n",
        "      self.Output = []\n",
        "      self.output_dimensions = output_dimensions\n",
        "\n",
        "      # Gate Inputs Controller values and Register Output Controller Values\n",
        "      for i in output_dimensions:\n",
        "        self.Output.append(tf.keras.layers.Dense(i, input_shape=(hidden_dimensions,), use_bias=True, activation=\"softmax\"))\n",
        "\n",
        "      self.CompletedStatus = tf.keras.layers.Dense(1, input_shape=(hidden_dimensions,), use_bias=True, activation=\"sigmoid\")\n",
        "   \n",
        "   def call(self, input_registers):\n",
        "      # hidden layers\n",
        "      hidden1 = self.Hidden1(input_registers)\n",
        "      hidden2 = self.Hidden2(hidden1)\n",
        "      \n",
        "      # To get controller values\n",
        "      output = []\n",
        "      for i in range(len(self.output_dimensions)):\n",
        "        output.append(self.Output[i](hidden2))\n",
        "\n",
        "      # final completed status\n",
        "      completed = self.CompletedStatus(hidden2)\n",
        "\n",
        "      return output, completed"
      ],
      "execution_count": 0,
      "outputs": []
    },
    {
      "cell_type": "markdown",
      "metadata": {
        "id": "Hnd_YcNF1HyU",
        "colab_type": "text"
      },
      "source": [
        "#### Example Implementation"
      ]
    },
    {
      "cell_type": "code",
      "metadata": {
        "id": "RNaT8HpdoCZ4",
        "colab_type": "code",
        "colab": {}
      },
      "source": [
        "# Example with one gate and 3 input/output registers\n",
        "outputVals = [3, 4, 4, 4]\n",
        "\n",
        "# Creating instance of the contoller network\n",
        "nramController = NRAMController(output_dimensions=[3, 4, 4, 4]);"
      ],
      "execution_count": 0,
      "outputs": []
    },
    {
      "cell_type": "code",
      "metadata": {
        "id": "X4F4zm_G_hUB",
        "colab_type": "code",
        "outputId": "094d6728-dd2b-4672-abe5-d1a638e56e6b",
        "colab": {
          "base_uri": "https://localhost:8080/",
          "height": 207
        }
      },
      "source": [
        "# Running the controller\n",
        "coEffTest, completedStatus = nramController(tf.Variable(tf.ones((1,3))))\n",
        "\n",
        "print(\"\\nThe output from the neural network controller without training \\n\")\n",
        "coEffTest"
      ],
      "execution_count": 0,
      "outputs": [
        {
          "output_type": "stream",
          "text": [
            "WARNING:tensorflow:From /usr/local/lib/python3.6/dist-packages/tensorflow/python/ops/resource_variable_ops.py:642: colocate_with (from tensorflow.python.framework.ops) is deprecated and will be removed in a future version.\n",
            "Instructions for updating:\n",
            "Colocations handled automatically by placer.\n",
            "\n",
            "The output from the neural network controller without training \n",
            "\n"
          ],
          "name": "stdout"
        },
        {
          "output_type": "execute_result",
          "data": {
            "text/plain": [
              "[<tf.Tensor: id=776, shape=(1, 3), dtype=float32, numpy=array([[0.3421605 , 0.38040218, 0.27743736]], dtype=float32)>,\n",
              " <tf.Tensor: id=803, shape=(1, 4), dtype=float32, numpy=array([[0.26405033, 0.23185481, 0.20055304, 0.30354178]], dtype=float32)>,\n",
              " <tf.Tensor: id=830, shape=(1, 4), dtype=float32, numpy=array([[0.2552609 , 0.30047518, 0.14777407, 0.29648986]], dtype=float32)>,\n",
              " <tf.Tensor: id=857, shape=(1, 4), dtype=float32, numpy=array([[0.32035252, 0.26037046, 0.18721005, 0.23206699]], dtype=float32)>]"
            ]
          },
          "metadata": {
            "tags": []
          },
          "execution_count": 50
        }
      ]
    },
    {
      "cell_type": "markdown",
      "metadata": {
        "id": "fEINnQwk_SbF",
        "colab_type": "text"
      },
      "source": [
        "##### Input Controller Values is the output of NN being applied to the circuit for one time step"
      ]
    },
    {
      "cell_type": "code",
      "metadata": {
        "id": "pMgQHz42llTj",
        "colab_type": "code",
        "outputId": "b24edfc7-6c7a-41cb-f0fb-582efb2fa2b8",
        "colab": {
          "base_uri": "https://localhost:8080/",
          "height": 221
        }
      },
      "source": [
        "gates = [incModule]\n",
        "\n",
        "# First set of input values\n",
        "registers = tf.concat([registerValueModule(1), registerValueModule(1), registerValueModule(3)], axis=0)\n",
        "registers = tf.reshape(registers, shape=[1, registers.shape[0], registers.shape[1]])\n",
        "\n",
        "print(\"Input register set 1: \", tf.argmax(registers, axis=2))\n",
        "\n",
        "print(\"\\nRunning input r0 -> increment -> output r0\")\n",
        "\n",
        "# Calling the function to run the complete circuit\n",
        "output_registers = runTimeStepNN(gates, registers, coEffTest)\n",
        "\n",
        "print(\"\\noutput_registers:\\n\", output_registers)\n",
        "print(\"\\noutput_registers:\\n\", tf.argmax(output_registers, axis=2))"
      ],
      "execution_count": 0,
      "outputs": [
        {
          "output_type": "stream",
          "text": [
            "Input register set 1:  tf.Tensor([[1 1 3]], shape=(1, 3), dtype=int64)\n",
            "\n",
            "Running input r0 -> increment -> output r0\n",
            "\n",
            "output_registers:\n",
            " tf.Tensor(\n",
            "[[[0.08421383 0.49590516 0.21932796 0.20055304]\n",
            "  [0.08225737 0.55573606 0.2142325  0.14777407]\n",
            "  [0.06438405 0.580723   0.16768295 0.18721005]]], shape=(1, 3, 4), dtype=float32)\n",
            "\n",
            "output_registers:\n",
            " tf.Tensor([[1 1 1]], shape=(1, 3), dtype=int64)\n"
          ],
          "name": "stdout"
        }
      ]
    },
    {
      "cell_type": "markdown",
      "metadata": {
        "id": "mvBzsEttFD3R",
        "colab_type": "text"
      },
      "source": [
        "## Implementation"
      ]
    },
    {
      "cell_type": "code",
      "metadata": {
        "id": "2IEexO4el-4i",
        "colab_type": "code",
        "colab": {}
      },
      "source": [
        "input_data = []\n",
        "target_data = []\n",
        "register_data = []\n",
        "\n",
        "input_data.append([\n",
        "  np.eye(4)[0],\n",
        "  np.eye(4)[3],\n",
        "  np.eye(4)[3]\n",
        "])\n",
        "register_data.append([\n",
        "    1-np.eye(4)[0][0],\n",
        "    1-np.eye(4)[3][0],\n",
        "    1-np.eye(4)[3][0]\n",
        "])\n",
        "target_data.append([\n",
        "  np.roll(np.eye(4)[0], 1),\n",
        "  np.eye(4)[3],\n",
        "  np.eye(4)[3]\n",
        "])\n",
        "\n",
        "\n",
        "input_data.append([\n",
        "  np.eye(4)[0],\n",
        "  np.eye(4)[1],\n",
        "  np.eye(4)[3]\n",
        "])\n",
        "register_data.append([\n",
        "    1-np.eye(4)[0][0],\n",
        "    1-np.eye(4)[1][0],\n",
        "    1-np.eye(4)[3][0]\n",
        "])\n",
        "target_data.append([\n",
        "  np.roll(np.eye(4)[0], 1),\n",
        "  np.eye(4)[1],\n",
        "  np.eye(4)[3]\n",
        "])\n",
        "\n",
        "\n",
        "input_data.append([\n",
        "  np.eye(4)[3],\n",
        "  np.eye(4)[2],\n",
        "  np.eye(4)[3]\n",
        "])\n",
        "register_data.append([\n",
        "    1-np.eye(4)[3][0],\n",
        "    1-np.eye(4)[2][0],\n",
        "    1-np.eye(4)[3][0]\n",
        "])\n",
        "target_data.append([\n",
        "  np.roll(np.eye(4)[3], 1),\n",
        "  np.eye(4)[2],\n",
        "  np.eye(4)[3]\n",
        "])\n",
        "\n",
        "#Adding this entry causes the output of first gate to be around 50% prob\n",
        "# input_data.append([\n",
        "#   np.eye(4)[3],\n",
        "#   np.eye(4)[2],\n",
        "#   np.eye(4)[1]\n",
        "# ])\n",
        "# register_data.append([\n",
        "#     1-np.eye(4)[3][0],\n",
        "#     1-np.eye(4)[2][0],\n",
        "#     1-np.eye(4)[1][0]\n",
        "# ])\n",
        "# target_data.append([\n",
        "#   np.roll(np.eye(4)[3], 1),\n",
        "#   np.eye(4)[2],\n",
        "#   np.eye(4)[1]\n",
        "# ])\n"
      ],
      "execution_count": 0,
      "outputs": []
    },
    {
      "cell_type": "code",
      "metadata": {
        "id": "9hlg2D_uE-qv",
        "colab_type": "code",
        "colab": {}
      },
      "source": [
        "dataset = tf.data.Dataset.from_tensor_slices((\n",
        "   input_data,\n",
        "   register_data,\n",
        "   target_data\n",
        "))\n",
        "\n",
        "# Divide to 32 batches\n",
        "batches = 1\n",
        "dataset = dataset.repeat(100).shuffle(buffer_size=10000).batch(batches)"
      ],
      "execution_count": 0,
      "outputs": []
    },
    {
      "cell_type": "code",
      "metadata": {
        "id": "fKl60kSheT0U",
        "colab_type": "code",
        "outputId": "9b284818-75ab-4b1f-b44a-7b40d71f4696",
        "colab": {
          "base_uri": "https://localhost:8080/",
          "height": 34
        }
      },
      "source": [
        "dataset"
      ],
      "execution_count": 0,
      "outputs": [
        {
          "output_type": "execute_result",
          "data": {
            "text/plain": [
              "<DatasetV1Adapter shapes: ((?, 3, 4), (?, 3), (?, 3, 4)), types: (tf.float64, tf.float64, tf.float64)>"
            ]
          },
          "metadata": {
            "tags": []
          },
          "execution_count": 157
        }
      ]
    },
    {
      "cell_type": "code",
      "metadata": {
        "id": "lUGX_C7Juetl",
        "colab_type": "code",
        "colab": {}
      },
      "source": [
        "optimizer = tf.train.AdamOptimizer(\n",
        "    learning_rate=0.001,\n",
        "    beta1=0.9,\n",
        "    beta2=0.999,\n",
        "    epsilon=1e-08\n",
        ")"
      ],
      "execution_count": 0,
      "outputs": []
    },
    {
      "cell_type": "code",
      "metadata": {
        "id": "N6ELMFPV95K3",
        "colab_type": "code",
        "colab": {}
      },
      "source": [
        "# for (batch, (input_data, register_data, target_data)) in enumerate(dataset):\n",
        "#   print(input_data[0], register_data[0], target_data[0])"
      ],
      "execution_count": 0,
      "outputs": []
    },
    {
      "cell_type": "code",
      "metadata": {
        "id": "LZG0N71qLEbY",
        "colab_type": "code",
        "colab": {}
      },
      "source": [
        "def gateOutput1(gate, inputs, controllerValues, M):\n",
        "  gateInputA = dotProduct(inputs, controllerValues[0])\n",
        "  output = gate(gateInputA, M)\n",
        "  output = tf.reshape(output, [output.shape[0], 1, output.shape[1]])\n",
        "  return output"
      ],
      "execution_count": 0,
      "outputs": []
    },
    {
      "cell_type": "code",
      "metadata": {
        "id": "A7gX-rsrJyFF",
        "colab_type": "code",
        "colab": {}
      },
      "source": [
        "def trainNeuralNetwork(dataset):\n",
        "  epochs = 2\n",
        "  loss_history = []\n",
        "  max_timesteps = 5\n",
        "  reg_lambda = 0.1\n",
        "  num_registers = 3\n",
        "  nramController = NRAMController(output_dimensions=[3, 4, 4, 4]);\n",
        "\n",
        "  for epoch in range(epochs):\n",
        "      for (batch, (input_data, register_data, target_data)) in enumerate(dataset):\n",
        "          loss = 0\n",
        "          cost = 0\n",
        "          cum_prob_complete = 0\n",
        "          prob_incomplete = 1\n",
        "          status = 1\n",
        "          \n",
        "          with tf.GradientTape() as tape:\n",
        "            registers = input_data\n",
        "            for timestep in range(max_timesteps):\n",
        "              controller, status = nramController(tf.dtypes.cast(register_data, \"float32\"))\n",
        "\n",
        "              for i in range(len(gates)):\n",
        "                output = gateOutput1(gates[i], tf.dtypes.cast(registers, \"float32\"), tf.dtypes.cast(controller[i], tf.float32), M)\n",
        "                registers = tf.concat([tf.dtypes.cast(registers, \"float32\"), output], axis=1)\n",
        "\n",
        "              output_registers = []\n",
        "              for i in range(len(gates), len(controller)):\n",
        "                output = dotProduct(registers, controller[i][0])\n",
        "                output_registers.append(output)\n",
        "\n",
        "              output_registers = tf.stack(output_registers, axis=1)\n",
        "              registers = output_registers\n",
        "              if timestep == max_timesteps:\n",
        "                  prob_complete = 1 - cum_prob_complete\n",
        "              else:\n",
        "                  prob_complete = status * prob_incomplete\n",
        "\n",
        "              # Update the probability that the computation isn't complete\n",
        "              prob_incomplete *= 1 - status\n",
        "\n",
        "              # Accumulate the probability that a result has been produced.\n",
        "              cum_prob_complete += prob_complete\n",
        "\n",
        "              # Cost for this timestep.\n",
        "              unscaled_cost = 0\n",
        "\n",
        "              # Add epsilon to every log to avoid having inf in costs.\n",
        "              epsilon = tf.constant(1e-35, shape=[output_registers.shape[0], output_registers.shape[2]])\n",
        "\n",
        "              for r in range(num_registers):\n",
        "                  mask = target_data[:, r]\n",
        "                  loss = tf.math.reduce_sum((tf.dtypes.cast(mask, \"float32\" ) * tf.math.log(tf.math.add(tf.dtypes.cast(output_registers[:, r, :], \"float32\" ), epsilon))), axis=1)\n",
        "                  unscaled_cost += tf.reshape(loss, [loss.shape[0], 1])\n",
        "\n",
        "              scaled_cost = prob_complete * unscaled_cost\n",
        "              cost -= scaled_cost\n",
        "            final_cost = tf.math.reduce_sum(cost)\n",
        "\n",
        "          batch_loss = (final_cost / batches)\n",
        "          \n",
        "          # store the loss history \n",
        "          loss_history.append(batch_loss.numpy())\n",
        "\n",
        "          # fetch the trainable variables\n",
        "          variables = nramController.variables\n",
        "\n",
        "          # calculate the gradient\n",
        "          grads = tape.gradient(final_cost, variables)\n",
        "\n",
        "          # update the weights of the network\n",
        "          optimizer.apply_gradients(zip(grads, variables), global_step=tf.train.get_or_create_global_step())\n",
        "      \n",
        "          print(\"\\nEpoch \", epoch, \" final_cost: \", final_cost, \" Batch Loss: \", batch_loss)\n",
        "      if batch_loss > 100:\n",
        "        print(\"\\n\\tExit: Epoch \", epoch, \" final_cost: \", final_cost, \" Batch Loss: \", batch_loss)\n",
        "        return loss_history, nramController\n",
        "  return loss_history, nramController"
      ],
      "execution_count": 0,
      "outputs": []
    },
    {
      "cell_type": "code",
      "metadata": {
        "id": "VF01xnaTWuVq",
        "colab_type": "code",
        "outputId": "48cbf85f-b097-4e8d-c63f-3dcf409a77a3",
        "colab": {
          "base_uri": "https://localhost:8080/",
          "height": 20451
        }
      },
      "source": [
        "## Run me\n",
        "for _ in range(10):\n",
        "  loss_history, model = trainNeuralNetwork(dataset)\n",
        "  print(\"\\nCompleted iteration: \", _, \" final loss: \", loss_history[-1])\n",
        "  if loss_history[-1] < 1:\n",
        "    break"
      ],
      "execution_count": 0,
      "outputs": [
        {
          "output_type": "stream",
          "text": [
            "\n",
            "Epoch  0  final_cost:  tf.Tensor(3.390859, shape=(), dtype=float32)  Batch Loss:  tf.Tensor(3.390859, shape=(), dtype=float32)\n",
            "\n",
            "Epoch  0  final_cost:  tf.Tensor(3.4384806, shape=(), dtype=float32)  Batch Loss:  tf.Tensor(3.4384806, shape=(), dtype=float32)\n",
            "\n",
            "Epoch  0  final_cost:  tf.Tensor(3.3812425, shape=(), dtype=float32)  Batch Loss:  tf.Tensor(3.3812425, shape=(), dtype=float32)\n",
            "\n",
            "Epoch  0  final_cost:  tf.Tensor(3.281523, shape=(), dtype=float32)  Batch Loss:  tf.Tensor(3.281523, shape=(), dtype=float32)\n",
            "\n",
            "Epoch  0  final_cost:  tf.Tensor(3.2420697, shape=(), dtype=float32)  Batch Loss:  tf.Tensor(3.2420697, shape=(), dtype=float32)\n",
            "\n",
            "Epoch  0  final_cost:  tf.Tensor(3.1990552, shape=(), dtype=float32)  Batch Loss:  tf.Tensor(3.1990552, shape=(), dtype=float32)\n",
            "\n",
            "Epoch  0  final_cost:  tf.Tensor(3.1546266, shape=(), dtype=float32)  Batch Loss:  tf.Tensor(3.1546266, shape=(), dtype=float32)\n",
            "\n",
            "Epoch  0  final_cost:  tf.Tensor(3.1091835, shape=(), dtype=float32)  Batch Loss:  tf.Tensor(3.1091835, shape=(), dtype=float32)\n",
            "\n",
            "Epoch  0  final_cost:  tf.Tensor(3.0622063, shape=(), dtype=float32)  Batch Loss:  tf.Tensor(3.0622063, shape=(), dtype=float32)\n",
            "\n",
            "Epoch  0  final_cost:  tf.Tensor(2.9681802, shape=(), dtype=float32)  Batch Loss:  tf.Tensor(2.9681802, shape=(), dtype=float32)\n",
            "\n",
            "Epoch  0  final_cost:  tf.Tensor(2.9678311, shape=(), dtype=float32)  Batch Loss:  tf.Tensor(2.9678311, shape=(), dtype=float32)\n",
            "\n",
            "Epoch  0  final_cost:  tf.Tensor(2.9217408, shape=(), dtype=float32)  Batch Loss:  tf.Tensor(2.9217408, shape=(), dtype=float32)\n",
            "\n",
            "Epoch  0  final_cost:  tf.Tensor(2.8918839, shape=(), dtype=float32)  Batch Loss:  tf.Tensor(2.8918839, shape=(), dtype=float32)\n",
            "\n",
            "Epoch  0  final_cost:  tf.Tensor(2.8270082, shape=(), dtype=float32)  Batch Loss:  tf.Tensor(2.8270082, shape=(), dtype=float32)\n",
            "\n",
            "Epoch  0  final_cost:  tf.Tensor(2.7515535, shape=(), dtype=float32)  Batch Loss:  tf.Tensor(2.7515535, shape=(), dtype=float32)\n",
            "\n",
            "Epoch  0  final_cost:  tf.Tensor(2.7307103, shape=(), dtype=float32)  Batch Loss:  tf.Tensor(2.7307103, shape=(), dtype=float32)\n",
            "\n",
            "Epoch  0  final_cost:  tf.Tensor(2.706866, shape=(), dtype=float32)  Batch Loss:  tf.Tensor(2.706866, shape=(), dtype=float32)\n",
            "\n",
            "Epoch  0  final_cost:  tf.Tensor(2.6133869, shape=(), dtype=float32)  Batch Loss:  tf.Tensor(2.6133869, shape=(), dtype=float32)\n",
            "\n",
            "Epoch  0  final_cost:  tf.Tensor(2.581703, shape=(), dtype=float32)  Batch Loss:  tf.Tensor(2.581703, shape=(), dtype=float32)\n",
            "\n",
            "Epoch  0  final_cost:  tf.Tensor(2.560378, shape=(), dtype=float32)  Batch Loss:  tf.Tensor(2.560378, shape=(), dtype=float32)\n",
            "\n",
            "Epoch  0  final_cost:  tf.Tensor(2.50839, shape=(), dtype=float32)  Batch Loss:  tf.Tensor(2.50839, shape=(), dtype=float32)\n",
            "\n",
            "Epoch  0  final_cost:  tf.Tensor(2.426794, shape=(), dtype=float32)  Batch Loss:  tf.Tensor(2.426794, shape=(), dtype=float32)\n",
            "\n",
            "Epoch  0  final_cost:  tf.Tensor(2.3725812, shape=(), dtype=float32)  Batch Loss:  tf.Tensor(2.3725812, shape=(), dtype=float32)\n",
            "\n",
            "Epoch  0  final_cost:  tf.Tensor(2.3152266, shape=(), dtype=float32)  Batch Loss:  tf.Tensor(2.3152266, shape=(), dtype=float32)\n",
            "\n",
            "Epoch  0  final_cost:  tf.Tensor(2.301345, shape=(), dtype=float32)  Batch Loss:  tf.Tensor(2.301345, shape=(), dtype=float32)\n",
            "\n",
            "Epoch  0  final_cost:  tf.Tensor(2.1963532, shape=(), dtype=float32)  Batch Loss:  tf.Tensor(2.1963532, shape=(), dtype=float32)\n",
            "\n",
            "Epoch  0  final_cost:  tf.Tensor(2.2021081, shape=(), dtype=float32)  Batch Loss:  tf.Tensor(2.2021081, shape=(), dtype=float32)\n",
            "\n",
            "Epoch  0  final_cost:  tf.Tensor(2.0743556, shape=(), dtype=float32)  Batch Loss:  tf.Tensor(2.0743556, shape=(), dtype=float32)\n",
            "\n",
            "Epoch  0  final_cost:  tf.Tensor(2.1091752, shape=(), dtype=float32)  Batch Loss:  tf.Tensor(2.1091752, shape=(), dtype=float32)\n",
            "\n",
            "Epoch  0  final_cost:  tf.Tensor(2.062003, shape=(), dtype=float32)  Batch Loss:  tf.Tensor(2.062003, shape=(), dtype=float32)\n",
            "\n",
            "Epoch  0  final_cost:  tf.Tensor(1.892322, shape=(), dtype=float32)  Batch Loss:  tf.Tensor(1.892322, shape=(), dtype=float32)\n",
            "\n",
            "Epoch  0  final_cost:  tf.Tensor(1.8307693, shape=(), dtype=float32)  Batch Loss:  tf.Tensor(1.8307693, shape=(), dtype=float32)\n",
            "\n",
            "Epoch  0  final_cost:  tf.Tensor(1.7663558, shape=(), dtype=float32)  Batch Loss:  tf.Tensor(1.7663558, shape=(), dtype=float32)\n",
            "\n",
            "Epoch  0  final_cost:  tf.Tensor(1.8882037, shape=(), dtype=float32)  Batch Loss:  tf.Tensor(1.8882037, shape=(), dtype=float32)\n",
            "\n",
            "Epoch  0  final_cost:  tf.Tensor(1.8467569, shape=(), dtype=float32)  Batch Loss:  tf.Tensor(1.8467569, shape=(), dtype=float32)\n",
            "\n",
            "Epoch  0  final_cost:  tf.Tensor(1.5787461, shape=(), dtype=float32)  Batch Loss:  tf.Tensor(1.5787461, shape=(), dtype=float32)\n",
            "\n",
            "Epoch  0  final_cost:  tf.Tensor(1.7642746, shape=(), dtype=float32)  Batch Loss:  tf.Tensor(1.7642746, shape=(), dtype=float32)\n",
            "\n",
            "Epoch  0  final_cost:  tf.Tensor(1.7235408, shape=(), dtype=float32)  Batch Loss:  tf.Tensor(1.7235408, shape=(), dtype=float32)\n",
            "\n",
            "Epoch  0  final_cost:  tf.Tensor(1.4121438, shape=(), dtype=float32)  Batch Loss:  tf.Tensor(1.4121438, shape=(), dtype=float32)\n",
            "\n",
            "Epoch  0  final_cost:  tf.Tensor(1.3595706, shape=(), dtype=float32)  Batch Loss:  tf.Tensor(1.3595706, shape=(), dtype=float32)\n",
            "\n",
            "Epoch  0  final_cost:  tf.Tensor(1.5848958, shape=(), dtype=float32)  Batch Loss:  tf.Tensor(1.5848958, shape=(), dtype=float32)\n",
            "\n",
            "Epoch  0  final_cost:  tf.Tensor(1.5785321, shape=(), dtype=float32)  Batch Loss:  tf.Tensor(1.5785321, shape=(), dtype=float32)\n",
            "\n",
            "Epoch  0  final_cost:  tf.Tensor(1.5449096, shape=(), dtype=float32)  Batch Loss:  tf.Tensor(1.5449096, shape=(), dtype=float32)\n",
            "\n",
            "Epoch  0  final_cost:  tf.Tensor(1.5109181, shape=(), dtype=float32)  Batch Loss:  tf.Tensor(1.5109181, shape=(), dtype=float32)\n",
            "\n",
            "Epoch  0  final_cost:  tf.Tensor(1.1420244, shape=(), dtype=float32)  Batch Loss:  tf.Tensor(1.1420244, shape=(), dtype=float32)\n",
            "\n",
            "Epoch  0  final_cost:  tf.Tensor(1.1082827, shape=(), dtype=float32)  Batch Loss:  tf.Tensor(1.1082827, shape=(), dtype=float32)\n",
            "\n",
            "Epoch  0  final_cost:  tf.Tensor(1.0743241, shape=(), dtype=float32)  Batch Loss:  tf.Tensor(1.0743241, shape=(), dtype=float32)\n",
            "\n",
            "Epoch  0  final_cost:  tf.Tensor(1.4032538, shape=(), dtype=float32)  Batch Loss:  tf.Tensor(1.4032538, shape=(), dtype=float32)\n",
            "\n",
            "Epoch  0  final_cost:  tf.Tensor(1.0112278, shape=(), dtype=float32)  Batch Loss:  tf.Tensor(1.0112278, shape=(), dtype=float32)\n",
            "\n",
            "Epoch  0  final_cost:  tf.Tensor(0.9821181, shape=(), dtype=float32)  Batch Loss:  tf.Tensor(0.9821181, shape=(), dtype=float32)\n",
            "\n",
            "Epoch  0  final_cost:  tf.Tensor(1.3520715, shape=(), dtype=float32)  Batch Loss:  tf.Tensor(1.3520715, shape=(), dtype=float32)\n",
            "\n",
            "Epoch  0  final_cost:  tf.Tensor(1.3375696, shape=(), dtype=float32)  Batch Loss:  tf.Tensor(1.3375696, shape=(), dtype=float32)\n",
            "\n",
            "Epoch  0  final_cost:  tf.Tensor(1.3221107, shape=(), dtype=float32)  Batch Loss:  tf.Tensor(1.3221107, shape=(), dtype=float32)\n",
            "\n",
            "Epoch  0  final_cost:  tf.Tensor(1.2265935, shape=(), dtype=float32)  Batch Loss:  tf.Tensor(1.2265935, shape=(), dtype=float32)\n",
            "\n",
            "Epoch  0  final_cost:  tf.Tensor(1.2895776, shape=(), dtype=float32)  Batch Loss:  tf.Tensor(1.2895776, shape=(), dtype=float32)\n",
            "\n",
            "Epoch  0  final_cost:  tf.Tensor(1.1887829, shape=(), dtype=float32)  Batch Loss:  tf.Tensor(1.1887829, shape=(), dtype=float32)\n",
            "\n",
            "Epoch  0  final_cost:  tf.Tensor(1.1685513, shape=(), dtype=float32)  Batch Loss:  tf.Tensor(1.1685513, shape=(), dtype=float32)\n",
            "\n",
            "Epoch  0  final_cost:  tf.Tensor(1.1468954, shape=(), dtype=float32)  Batch Loss:  tf.Tensor(1.1468954, shape=(), dtype=float32)\n",
            "\n",
            "Epoch  0  final_cost:  tf.Tensor(1.2204149, shape=(), dtype=float32)  Batch Loss:  tf.Tensor(1.2204149, shape=(), dtype=float32)\n",
            "\n",
            "Epoch  0  final_cost:  tf.Tensor(1.2022326, shape=(), dtype=float32)  Batch Loss:  tf.Tensor(1.2022326, shape=(), dtype=float32)\n",
            "\n",
            "Epoch  0  final_cost:  tf.Tensor(1.1835936, shape=(), dtype=float32)  Batch Loss:  tf.Tensor(1.1835936, shape=(), dtype=float32)\n",
            "\n",
            "Epoch  0  final_cost:  tf.Tensor(0.8641365, shape=(), dtype=float32)  Batch Loss:  tf.Tensor(0.8641365, shape=(), dtype=float32)\n",
            "\n",
            "Epoch  0  final_cost:  tf.Tensor(1.0330625, shape=(), dtype=float32)  Batch Loss:  tf.Tensor(1.0330625, shape=(), dtype=float32)\n",
            "\n",
            "Epoch  0  final_cost:  tf.Tensor(1.0082588, shape=(), dtype=float32)  Batch Loss:  tf.Tensor(1.0082588, shape=(), dtype=float32)\n",
            "\n",
            "Epoch  0  final_cost:  tf.Tensor(0.8503386, shape=(), dtype=float32)  Batch Loss:  tf.Tensor(0.8503386, shape=(), dtype=float32)\n",
            "\n",
            "Epoch  0  final_cost:  tf.Tensor(0.95329344, shape=(), dtype=float32)  Batch Loss:  tf.Tensor(0.95329344, shape=(), dtype=float32)\n",
            "\n",
            "Epoch  0  final_cost:  tf.Tensor(0.9227996, shape=(), dtype=float32)  Batch Loss:  tf.Tensor(0.9227996, shape=(), dtype=float32)\n",
            "\n",
            "Epoch  0  final_cost:  tf.Tensor(1.0490395, shape=(), dtype=float32)  Batch Loss:  tf.Tensor(1.0490395, shape=(), dtype=float32)\n",
            "\n",
            "Epoch  0  final_cost:  tf.Tensor(0.8544166, shape=(), dtype=float32)  Batch Loss:  tf.Tensor(0.8544166, shape=(), dtype=float32)\n",
            "\n",
            "Epoch  0  final_cost:  tf.Tensor(0.8165848, shape=(), dtype=float32)  Batch Loss:  tf.Tensor(0.8165848, shape=(), dtype=float32)\n",
            "\n",
            "Epoch  0  final_cost:  tf.Tensor(0.7759249, shape=(), dtype=float32)  Batch Loss:  tf.Tensor(0.7759249, shape=(), dtype=float32)\n",
            "\n",
            "Epoch  0  final_cost:  tf.Tensor(0.9392575, shape=(), dtype=float32)  Batch Loss:  tf.Tensor(0.9392575, shape=(), dtype=float32)\n",
            "\n",
            "Epoch  0  final_cost:  tf.Tensor(0.90647525, shape=(), dtype=float32)  Batch Loss:  tf.Tensor(0.90647525, shape=(), dtype=float32)\n",
            "\n",
            "Epoch  0  final_cost:  tf.Tensor(0.6457372, shape=(), dtype=float32)  Batch Loss:  tf.Tensor(0.6457372, shape=(), dtype=float32)\n",
            "\n",
            "Epoch  0  final_cost:  tf.Tensor(0.6877944, shape=(), dtype=float32)  Batch Loss:  tf.Tensor(0.6877944, shape=(), dtype=float32)\n",
            "\n",
            "Epoch  0  final_cost:  tf.Tensor(0.6604629, shape=(), dtype=float32)  Batch Loss:  tf.Tensor(0.6604629, shape=(), dtype=float32)\n",
            "\n",
            "Epoch  0  final_cost:  tf.Tensor(0.63044584, shape=(), dtype=float32)  Batch Loss:  tf.Tensor(0.63044584, shape=(), dtype=float32)\n",
            "\n",
            "Epoch  0  final_cost:  tf.Tensor(0.5983694, shape=(), dtype=float32)  Batch Loss:  tf.Tensor(0.5983694, shape=(), dtype=float32)\n",
            "\n",
            "Epoch  0  final_cost:  tf.Tensor(0.5648154, shape=(), dtype=float32)  Batch Loss:  tf.Tensor(0.5648154, shape=(), dtype=float32)\n",
            "\n",
            "Epoch  0  final_cost:  tf.Tensor(0.4043607, shape=(), dtype=float32)  Batch Loss:  tf.Tensor(0.4043607, shape=(), dtype=float32)\n",
            "\n",
            "Epoch  0  final_cost:  tf.Tensor(0.4970492, shape=(), dtype=float32)  Batch Loss:  tf.Tensor(0.4970492, shape=(), dtype=float32)\n",
            "\n",
            "Epoch  0  final_cost:  tf.Tensor(0.33555365, shape=(), dtype=float32)  Batch Loss:  tf.Tensor(0.33555365, shape=(), dtype=float32)\n",
            "\n",
            "Epoch  0  final_cost:  tf.Tensor(0.5361543, shape=(), dtype=float32)  Batch Loss:  tf.Tensor(0.5361543, shape=(), dtype=float32)\n",
            "\n",
            "Epoch  0  final_cost:  tf.Tensor(0.49917436, shape=(), dtype=float32)  Batch Loss:  tf.Tensor(0.49917436, shape=(), dtype=float32)\n",
            "\n",
            "Epoch  0  final_cost:  tf.Tensor(0.46196258, shape=(), dtype=float32)  Batch Loss:  tf.Tensor(0.46196258, shape=(), dtype=float32)\n",
            "\n",
            "Epoch  0  final_cost:  tf.Tensor(0.3434605, shape=(), dtype=float32)  Batch Loss:  tf.Tensor(0.3434605, shape=(), dtype=float32)\n",
            "\n",
            "Epoch  0  final_cost:  tf.Tensor(0.19373167, shape=(), dtype=float32)  Batch Loss:  tf.Tensor(0.19373167, shape=(), dtype=float32)\n",
            "\n",
            "Epoch  0  final_cost:  tf.Tensor(0.28960708, shape=(), dtype=float32)  Batch Loss:  tf.Tensor(0.28960708, shape=(), dtype=float32)\n",
            "\n",
            "Epoch  0  final_cost:  tf.Tensor(0.26519632, shape=(), dtype=float32)  Batch Loss:  tf.Tensor(0.26519632, shape=(), dtype=float32)\n",
            "\n",
            "Epoch  0  final_cost:  tf.Tensor(0.30035007, shape=(), dtype=float32)  Batch Loss:  tf.Tensor(0.30035007, shape=(), dtype=float32)\n",
            "\n",
            "Epoch  0  final_cost:  tf.Tensor(0.27375022, shape=(), dtype=float32)  Batch Loss:  tf.Tensor(0.27375022, shape=(), dtype=float32)\n",
            "\n",
            "Epoch  0  final_cost:  tf.Tensor(0.24869846, shape=(), dtype=float32)  Batch Loss:  tf.Tensor(0.24869846, shape=(), dtype=float32)\n",
            "\n",
            "Epoch  0  final_cost:  tf.Tensor(0.09372258, shape=(), dtype=float32)  Batch Loss:  tf.Tensor(0.09372258, shape=(), dtype=float32)\n",
            "\n",
            "Epoch  0  final_cost:  tf.Tensor(0.08294956, shape=(), dtype=float32)  Batch Loss:  tf.Tensor(0.08294956, shape=(), dtype=float32)\n",
            "\n",
            "Epoch  0  final_cost:  tf.Tensor(0.15189695, shape=(), dtype=float32)  Batch Loss:  tf.Tensor(0.15189695, shape=(), dtype=float32)\n",
            "\n",
            "Epoch  0  final_cost:  tf.Tensor(0.17055556, shape=(), dtype=float32)  Batch Loss:  tf.Tensor(0.17055556, shape=(), dtype=float32)\n",
            "\n",
            "Epoch  0  final_cost:  tf.Tensor(0.1555303, shape=(), dtype=float32)  Batch Loss:  tf.Tensor(0.1555303, shape=(), dtype=float32)\n",
            "\n",
            "Epoch  0  final_cost:  tf.Tensor(0.11597584, shape=(), dtype=float32)  Batch Loss:  tf.Tensor(0.11597584, shape=(), dtype=float32)\n",
            "\n",
            "Epoch  0  final_cost:  tf.Tensor(0.046288196, shape=(), dtype=float32)  Batch Loss:  tf.Tensor(0.046288196, shape=(), dtype=float32)\n",
            "\n",
            "Epoch  0  final_cost:  tf.Tensor(0.0975627, shape=(), dtype=float32)  Batch Loss:  tf.Tensor(0.0975627, shape=(), dtype=float32)\n",
            "\n",
            "Epoch  0  final_cost:  tf.Tensor(0.037389632, shape=(), dtype=float32)  Batch Loss:  tf.Tensor(0.037389632, shape=(), dtype=float32)\n",
            "\n",
            "Epoch  0  final_cost:  tf.Tensor(0.10082312, shape=(), dtype=float32)  Batch Loss:  tf.Tensor(0.10082312, shape=(), dtype=float32)\n",
            "\n",
            "Epoch  0  final_cost:  tf.Tensor(0.07692942, shape=(), dtype=float32)  Batch Loss:  tf.Tensor(0.07692942, shape=(), dtype=float32)\n",
            "\n",
            "Epoch  0  final_cost:  tf.Tensor(0.0713548, shape=(), dtype=float32)  Batch Loss:  tf.Tensor(0.0713548, shape=(), dtype=float32)\n",
            "\n",
            "Epoch  0  final_cost:  tf.Tensor(0.06631298, shape=(), dtype=float32)  Batch Loss:  tf.Tensor(0.06631298, shape=(), dtype=float32)\n",
            "\n",
            "Epoch  0  final_cost:  tf.Tensor(0.023300117, shape=(), dtype=float32)  Batch Loss:  tf.Tensor(0.023300117, shape=(), dtype=float32)\n",
            "\n",
            "Epoch  0  final_cost:  tf.Tensor(0.069626056, shape=(), dtype=float32)  Batch Loss:  tf.Tensor(0.069626056, shape=(), dtype=float32)\n",
            "\n",
            "Epoch  0  final_cost:  tf.Tensor(0.019791484, shape=(), dtype=float32)  Batch Loss:  tf.Tensor(0.019791484, shape=(), dtype=float32)\n",
            "\n",
            "Epoch  0  final_cost:  tf.Tensor(0.018333113, shape=(), dtype=float32)  Batch Loss:  tf.Tensor(0.018333113, shape=(), dtype=float32)\n",
            "\n",
            "Epoch  0  final_cost:  tf.Tensor(0.017044986, shape=(), dtype=float32)  Batch Loss:  tf.Tensor(0.017044986, shape=(), dtype=float32)\n",
            "\n",
            "Epoch  0  final_cost:  tf.Tensor(0.054695755, shape=(), dtype=float32)  Batch Loss:  tf.Tensor(0.054695755, shape=(), dtype=float32)\n",
            "\n",
            "Epoch  0  final_cost:  tf.Tensor(0.01486989, shape=(), dtype=float32)  Batch Loss:  tf.Tensor(0.01486989, shape=(), dtype=float32)\n",
            "\n",
            "Epoch  0  final_cost:  tf.Tensor(0.0139500145, shape=(), dtype=float32)  Batch Loss:  tf.Tensor(0.0139500145, shape=(), dtype=float32)\n",
            "\n",
            "Epoch  0  final_cost:  tf.Tensor(0.013128866, shape=(), dtype=float32)  Batch Loss:  tf.Tensor(0.013128866, shape=(), dtype=float32)\n",
            "\n",
            "Epoch  0  final_cost:  tf.Tensor(0.012393472, shape=(), dtype=float32)  Batch Loss:  tf.Tensor(0.012393472, shape=(), dtype=float32)\n",
            "\n",
            "Epoch  0  final_cost:  tf.Tensor(0.043289244, shape=(), dtype=float32)  Batch Loss:  tf.Tensor(0.043289244, shape=(), dtype=float32)\n",
            "\n",
            "Epoch  0  final_cost:  tf.Tensor(0.011123811, shape=(), dtype=float32)  Batch Loss:  tf.Tensor(0.011123811, shape=(), dtype=float32)\n",
            "\n",
            "Epoch  0  final_cost:  tf.Tensor(0.033614304, shape=(), dtype=float32)  Batch Loss:  tf.Tensor(0.033614304, shape=(), dtype=float32)\n",
            "\n",
            "Epoch  0  final_cost:  tf.Tensor(0.010071342, shape=(), dtype=float32)  Batch Loss:  tf.Tensor(0.010071342, shape=(), dtype=float32)\n",
            "\n",
            "Epoch  0  final_cost:  tf.Tensor(0.009615287, shape=(), dtype=float32)  Batch Loss:  tf.Tensor(0.009615287, shape=(), dtype=float32)\n",
            "\n",
            "Epoch  0  final_cost:  tf.Tensor(0.030388355, shape=(), dtype=float32)  Batch Loss:  tf.Tensor(0.030388355, shape=(), dtype=float32)\n",
            "\n",
            "Epoch  0  final_cost:  tf.Tensor(0.029460646, shape=(), dtype=float32)  Batch Loss:  tf.Tensor(0.029460646, shape=(), dtype=float32)\n",
            "\n",
            "Epoch  0  final_cost:  tf.Tensor(0.008461695, shape=(), dtype=float32)  Batch Loss:  tf.Tensor(0.008461695, shape=(), dtype=float32)\n",
            "\n",
            "Epoch  0  final_cost:  tf.Tensor(0.032942012, shape=(), dtype=float32)  Batch Loss:  tf.Tensor(0.032942012, shape=(), dtype=float32)\n",
            "\n",
            "Epoch  0  final_cost:  tf.Tensor(0.007829727, shape=(), dtype=float32)  Batch Loss:  tf.Tensor(0.007829727, shape=(), dtype=float32)\n",
            "\n",
            "Epoch  0  final_cost:  tf.Tensor(0.007548213, shape=(), dtype=float32)  Batch Loss:  tf.Tensor(0.007548213, shape=(), dtype=float32)\n",
            "\n",
            "Epoch  0  final_cost:  tf.Tensor(0.030329397, shape=(), dtype=float32)  Batch Loss:  tf.Tensor(0.030329397, shape=(), dtype=float32)\n",
            "\n",
            "Epoch  0  final_cost:  tf.Tensor(0.029544432, shape=(), dtype=float32)  Batch Loss:  tf.Tensor(0.029544432, shape=(), dtype=float32)\n",
            "\n",
            "Epoch  0  final_cost:  tf.Tensor(0.0068079773, shape=(), dtype=float32)  Batch Loss:  tf.Tensor(0.0068079773, shape=(), dtype=float32)\n",
            "\n",
            "Epoch  0  final_cost:  tf.Tensor(0.006591461, shape=(), dtype=float32)  Batch Loss:  tf.Tensor(0.006591461, shape=(), dtype=float32)\n",
            "\n",
            "Epoch  0  final_cost:  tf.Tensor(0.023219224, shape=(), dtype=float32)  Batch Loss:  tf.Tensor(0.023219224, shape=(), dtype=float32)\n",
            "\n",
            "Epoch  0  final_cost:  tf.Tensor(0.026786478, shape=(), dtype=float32)  Batch Loss:  tf.Tensor(0.026786478, shape=(), dtype=float32)\n",
            "\n",
            "Epoch  0  final_cost:  tf.Tensor(0.022181543, shape=(), dtype=float32)  Batch Loss:  tf.Tensor(0.022181543, shape=(), dtype=float32)\n",
            "\n",
            "Epoch  0  final_cost:  tf.Tensor(0.025539255, shape=(), dtype=float32)  Batch Loss:  tf.Tensor(0.025539255, shape=(), dtype=float32)\n",
            "\n",
            "Epoch  0  final_cost:  tf.Tensor(0.021169664, shape=(), dtype=float32)  Batch Loss:  tf.Tensor(0.021169664, shape=(), dtype=float32)\n",
            "\n",
            "Epoch  0  final_cost:  tf.Tensor(0.02433037, shape=(), dtype=float32)  Batch Loss:  tf.Tensor(0.02433037, shape=(), dtype=float32)\n",
            "\n",
            "Epoch  0  final_cost:  tf.Tensor(0.023740146, shape=(), dtype=float32)  Batch Loss:  tf.Tensor(0.023740146, shape=(), dtype=float32)\n",
            "\n",
            "Epoch  0  final_cost:  tf.Tensor(0.019714328, shape=(), dtype=float32)  Batch Loss:  tf.Tensor(0.019714328, shape=(), dtype=float32)\n",
            "\n",
            "Epoch  0  final_cost:  tf.Tensor(0.005085915, shape=(), dtype=float32)  Batch Loss:  tf.Tensor(0.005085915, shape=(), dtype=float32)\n",
            "\n",
            "Epoch  0  final_cost:  tf.Tensor(0.0049559674, shape=(), dtype=float32)  Batch Loss:  tf.Tensor(0.0049559674, shape=(), dtype=float32)\n",
            "\n",
            "Epoch  0  final_cost:  tf.Tensor(0.021623898, shape=(), dtype=float32)  Batch Loss:  tf.Tensor(0.021623898, shape=(), dtype=float32)\n",
            "\n",
            "Epoch  0  final_cost:  tf.Tensor(0.018067867, shape=(), dtype=float32)  Batch Loss:  tf.Tensor(0.018067867, shape=(), dtype=float32)\n",
            "\n",
            "Epoch  0  final_cost:  tf.Tensor(0.004606375, shape=(), dtype=float32)  Batch Loss:  tf.Tensor(0.004606375, shape=(), dtype=float32)\n",
            "\n",
            "Epoch  0  final_cost:  tf.Tensor(0.02030139, shape=(), dtype=float32)  Batch Loss:  tf.Tensor(0.02030139, shape=(), dtype=float32)\n",
            "\n",
            "Epoch  0  final_cost:  tf.Tensor(0.0043994514, shape=(), dtype=float32)  Batch Loss:  tf.Tensor(0.0043994514, shape=(), dtype=float32)\n",
            "\n",
            "Epoch  0  final_cost:  tf.Tensor(0.016706154, shape=(), dtype=float32)  Batch Loss:  tf.Tensor(0.016706154, shape=(), dtype=float32)\n",
            "\n",
            "Epoch  0  final_cost:  tf.Tensor(0.0042115347, shape=(), dtype=float32)  Batch Loss:  tf.Tensor(0.0042115347, shape=(), dtype=float32)\n",
            "\n",
            "Epoch  0  final_cost:  tf.Tensor(0.018811554, shape=(), dtype=float32)  Batch Loss:  tf.Tensor(0.018811554, shape=(), dtype=float32)\n",
            "\n",
            "Epoch  0  final_cost:  tf.Tensor(0.015837613, shape=(), dtype=float32)  Batch Loss:  tf.Tensor(0.015837613, shape=(), dtype=float32)\n",
            "\n",
            "Epoch  0  final_cost:  tf.Tensor(0.015557658, shape=(), dtype=float32)  Batch Loss:  tf.Tensor(0.015557658, shape=(), dtype=float32)\n",
            "\n",
            "Epoch  0  final_cost:  tf.Tensor(0.017803295, shape=(), dtype=float32)  Batch Loss:  tf.Tensor(0.017803295, shape=(), dtype=float32)\n",
            "\n",
            "Epoch  0  final_cost:  tf.Tensor(0.017470554, shape=(), dtype=float32)  Batch Loss:  tf.Tensor(0.017470554, shape=(), dtype=float32)\n",
            "\n",
            "Epoch  0  final_cost:  tf.Tensor(0.0037224367, shape=(), dtype=float32)  Batch Loss:  tf.Tensor(0.0037224367, shape=(), dtype=float32)\n",
            "\n",
            "Epoch  0  final_cost:  tf.Tensor(0.0036502918, shape=(), dtype=float32)  Batch Loss:  tf.Tensor(0.0036502918, shape=(), dtype=float32)\n",
            "\n",
            "Epoch  0  final_cost:  tf.Tensor(0.00358244, shape=(), dtype=float32)  Batch Loss:  tf.Tensor(0.00358244, shape=(), dtype=float32)\n",
            "\n",
            "Epoch  0  final_cost:  tf.Tensor(0.0035184887, shape=(), dtype=float32)  Batch Loss:  tf.Tensor(0.0035184887, shape=(), dtype=float32)\n",
            "\n",
            "Epoch  0  final_cost:  tf.Tensor(0.016072838, shape=(), dtype=float32)  Batch Loss:  tf.Tensor(0.016072838, shape=(), dtype=float32)\n",
            "\n",
            "Epoch  0  final_cost:  tf.Tensor(0.0033978715, shape=(), dtype=float32)  Batch Loss:  tf.Tensor(0.0033978715, shape=(), dtype=float32)\n",
            "\n",
            "Epoch  0  final_cost:  tf.Tensor(0.015612747, shape=(), dtype=float32)  Batch Loss:  tf.Tensor(0.015612747, shape=(), dtype=float32)\n",
            "\n",
            "Epoch  0  final_cost:  tf.Tensor(0.013267323, shape=(), dtype=float32)  Batch Loss:  tf.Tensor(0.013267323, shape=(), dtype=float32)\n",
            "\n",
            "Epoch  0  final_cost:  tf.Tensor(0.013076806, shape=(), dtype=float32)  Batch Loss:  tf.Tensor(0.013076806, shape=(), dtype=float32)\n",
            "\n",
            "Epoch  0  final_cost:  tf.Tensor(0.014928999, shape=(), dtype=float32)  Batch Loss:  tf.Tensor(0.014928999, shape=(), dtype=float32)\n",
            "\n",
            "Epoch  0  final_cost:  tf.Tensor(0.012691632, shape=(), dtype=float32)  Batch Loss:  tf.Tensor(0.012691632, shape=(), dtype=float32)\n",
            "\n",
            "Epoch  0  final_cost:  tf.Tensor(0.014466608, shape=(), dtype=float32)  Batch Loss:  tf.Tensor(0.014466608, shape=(), dtype=float32)\n",
            "\n",
            "Epoch  0  final_cost:  tf.Tensor(0.012303591, shape=(), dtype=float32)  Batch Loss:  tf.Tensor(0.012303591, shape=(), dtype=float32)\n",
            "\n",
            "Epoch  0  final_cost:  tf.Tensor(0.014004419, shape=(), dtype=float32)  Batch Loss:  tf.Tensor(0.014004419, shape=(), dtype=float32)\n",
            "\n",
            "Epoch  0  final_cost:  tf.Tensor(0.011917556, shape=(), dtype=float32)  Batch Loss:  tf.Tensor(0.011917556, shape=(), dtype=float32)\n",
            "\n",
            "Epoch  0  final_cost:  tf.Tensor(0.0028640132, shape=(), dtype=float32)  Batch Loss:  tf.Tensor(0.0028640132, shape=(), dtype=float32)\n",
            "\n",
            "Epoch  0  final_cost:  tf.Tensor(0.0028176485, shape=(), dtype=float32)  Batch Loss:  tf.Tensor(0.0028176485, shape=(), dtype=float32)\n",
            "\n",
            "Epoch  0  final_cost:  tf.Tensor(0.01315274, shape=(), dtype=float32)  Batch Loss:  tf.Tensor(0.01315274, shape=(), dtype=float32)\n",
            "\n",
            "Epoch  0  final_cost:  tf.Tensor(0.0027302708, shape=(), dtype=float32)  Batch Loss:  tf.Tensor(0.0027302708, shape=(), dtype=float32)\n",
            "\n",
            "Epoch  0  final_cost:  tf.Tensor(0.0026890738, shape=(), dtype=float32)  Batch Loss:  tf.Tensor(0.0026890738, shape=(), dtype=float32)\n",
            "\n",
            "Epoch  0  final_cost:  tf.Tensor(0.012623702, shape=(), dtype=float32)  Batch Loss:  tf.Tensor(0.012623702, shape=(), dtype=float32)\n",
            "\n",
            "Epoch  0  final_cost:  tf.Tensor(0.012457295, shape=(), dtype=float32)  Batch Loss:  tf.Tensor(0.012457295, shape=(), dtype=float32)\n",
            "\n",
            "Epoch  0  final_cost:  tf.Tensor(0.0025718585, shape=(), dtype=float32)  Batch Loss:  tf.Tensor(0.0025718585, shape=(), dtype=float32)\n",
            "\n",
            "Epoch  0  final_cost:  tf.Tensor(0.0025348791, shape=(), dtype=float32)  Batch Loss:  tf.Tensor(0.0025348791, shape=(), dtype=float32)\n",
            "\n",
            "Epoch  0  final_cost:  tf.Tensor(0.002499818, shape=(), dtype=float32)  Batch Loss:  tf.Tensor(0.002499818, shape=(), dtype=float32)\n",
            "\n",
            "Epoch  0  final_cost:  tf.Tensor(0.0024664933, shape=(), dtype=float32)  Batch Loss:  tf.Tensor(0.0024664933, shape=(), dtype=float32)\n",
            "\n",
            "Epoch  0  final_cost:  tf.Tensor(0.0024347522, shape=(), dtype=float32)  Batch Loss:  tf.Tensor(0.0024347522, shape=(), dtype=float32)\n",
            "\n",
            "Epoch  0  final_cost:  tf.Tensor(0.010105304, shape=(), dtype=float32)  Batch Loss:  tf.Tensor(0.010105304, shape=(), dtype=float32)\n",
            "\n",
            "Epoch  0  final_cost:  tf.Tensor(0.0023741345, shape=(), dtype=float32)  Batch Loss:  tf.Tensor(0.0023741345, shape=(), dtype=float32)\n",
            "\n",
            "Epoch  0  final_cost:  tf.Tensor(0.009913172, shape=(), dtype=float32)  Batch Loss:  tf.Tensor(0.009913172, shape=(), dtype=float32)\n",
            "\n",
            "Epoch  0  final_cost:  tf.Tensor(0.0023161778, shape=(), dtype=float32)  Batch Loss:  tf.Tensor(0.0023161778, shape=(), dtype=float32)\n",
            "\n",
            "Epoch  0  final_cost:  tf.Tensor(0.0022884607, shape=(), dtype=float32)  Batch Loss:  tf.Tensor(0.0022884607, shape=(), dtype=float32)\n",
            "\n",
            "Epoch  0  final_cost:  tf.Tensor(0.011076208, shape=(), dtype=float32)  Batch Loss:  tf.Tensor(0.011076208, shape=(), dtype=float32)\n",
            "\n",
            "Epoch  0  final_cost:  tf.Tensor(0.009553932, shape=(), dtype=float32)  Batch Loss:  tf.Tensor(0.009553932, shape=(), dtype=float32)\n",
            "\n",
            "Epoch  0  final_cost:  tf.Tensor(0.0022074939, shape=(), dtype=float32)  Batch Loss:  tf.Tensor(0.0022074939, shape=(), dtype=float32)\n",
            "\n",
            "Epoch  0  final_cost:  tf.Tensor(0.0021814886, shape=(), dtype=float32)  Batch Loss:  tf.Tensor(0.0021814886, shape=(), dtype=float32)\n",
            "\n",
            "Epoch  0  final_cost:  tf.Tensor(0.0021566006, shape=(), dtype=float32)  Batch Loss:  tf.Tensor(0.0021566006, shape=(), dtype=float32)\n",
            "\n",
            "Epoch  0  final_cost:  tf.Tensor(0.010576476, shape=(), dtype=float32)  Batch Loss:  tf.Tensor(0.010576476, shape=(), dtype=float32)\n",
            "\n",
            "Epoch  0  final_cost:  tf.Tensor(0.010480579, shape=(), dtype=float32)  Batch Loss:  tf.Tensor(0.010480579, shape=(), dtype=float32)\n",
            "\n",
            "Epoch  0  final_cost:  tf.Tensor(0.009050017, shape=(), dtype=float32)  Batch Loss:  tf.Tensor(0.009050017, shape=(), dtype=float32)\n",
            "\n",
            "Epoch  0  final_cost:  tf.Tensor(0.008960033, shape=(), dtype=float32)  Batch Loss:  tf.Tensor(0.008960033, shape=(), dtype=float32)\n",
            "\n",
            "Epoch  0  final_cost:  tf.Tensor(0.0020330637, shape=(), dtype=float32)  Batch Loss:  tf.Tensor(0.0020330637, shape=(), dtype=float32)\n",
            "\n",
            "Epoch  0  final_cost:  tf.Tensor(0.008782323, shape=(), dtype=float32)  Batch Loss:  tf.Tensor(0.008782323, shape=(), dtype=float32)\n",
            "\n",
            "Epoch  0  final_cost:  tf.Tensor(0.0099604875, shape=(), dtype=float32)  Batch Loss:  tf.Tensor(0.0099604875, shape=(), dtype=float32)\n",
            "\n",
            "Epoch  0  final_cost:  tf.Tensor(0.008602734, shape=(), dtype=float32)  Batch Loss:  tf.Tensor(0.008602734, shape=(), dtype=float32)\n",
            "\n",
            "Epoch  0  final_cost:  tf.Tensor(0.008509529, shape=(), dtype=float32)  Batch Loss:  tf.Tensor(0.008509529, shape=(), dtype=float32)\n",
            "\n",
            "Epoch  0  final_cost:  tf.Tensor(0.009633601, shape=(), dtype=float32)  Batch Loss:  tf.Tensor(0.009633601, shape=(), dtype=float32)\n",
            "\n",
            "Epoch  0  final_cost:  tf.Tensor(0.008318475, shape=(), dtype=float32)  Batch Loss:  tf.Tensor(0.008318475, shape=(), dtype=float32)\n",
            "\n",
            "Epoch  0  final_cost:  tf.Tensor(0.0082214195, shape=(), dtype=float32)  Batch Loss:  tf.Tensor(0.0082214195, shape=(), dtype=float32)\n",
            "\n",
            "Epoch  0  final_cost:  tf.Tensor(0.0092935525, shape=(), dtype=float32)  Batch Loss:  tf.Tensor(0.0092935525, shape=(), dtype=float32)\n",
            "\n",
            "Epoch  0  final_cost:  tf.Tensor(0.001818691, shape=(), dtype=float32)  Batch Loss:  tf.Tensor(0.001818691, shape=(), dtype=float32)\n",
            "\n",
            "Epoch  0  final_cost:  tf.Tensor(0.007935656, shape=(), dtype=float32)  Batch Loss:  tf.Tensor(0.007935656, shape=(), dtype=float32)\n",
            "\n",
            "Epoch  0  final_cost:  tf.Tensor(0.008967448, shape=(), dtype=float32)  Batch Loss:  tf.Tensor(0.008967448, shape=(), dtype=float32)\n",
            "\n",
            "Epoch  0  final_cost:  tf.Tensor(0.0017523526, shape=(), dtype=float32)  Batch Loss:  tf.Tensor(0.0017523526, shape=(), dtype=float32)\n",
            "\n",
            "Epoch  0  final_cost:  tf.Tensor(0.0017314727, shape=(), dtype=float32)  Batch Loss:  tf.Tensor(0.0017314727, shape=(), dtype=float32)\n",
            "\n",
            "Epoch  0  final_cost:  tf.Tensor(0.0086711645, shape=(), dtype=float32)  Batch Loss:  tf.Tensor(0.0086711645, shape=(), dtype=float32)\n",
            "\n",
            "Epoch  0  final_cost:  tf.Tensor(0.0016916853, shape=(), dtype=float32)  Batch Loss:  tf.Tensor(0.0016916853, shape=(), dtype=float32)\n",
            "\n",
            "Epoch  0  final_cost:  tf.Tensor(0.008491944, shape=(), dtype=float32)  Batch Loss:  tf.Tensor(0.008491944, shape=(), dtype=float32)\n",
            "\n",
            "Epoch  0  final_cost:  tf.Tensor(0.007363037, shape=(), dtype=float32)  Batch Loss:  tf.Tensor(0.007363037, shape=(), dtype=float32)\n",
            "\n",
            "Epoch  0  final_cost:  tf.Tensor(0.008313364, shape=(), dtype=float32)  Batch Loss:  tf.Tensor(0.008313364, shape=(), dtype=float32)\n",
            "\n",
            "Epoch  0  final_cost:  tf.Tensor(0.0082214195, shape=(), dtype=float32)  Batch Loss:  tf.Tensor(0.0082214195, shape=(), dtype=float32)\n",
            "\n",
            "Epoch  0  final_cost:  tf.Tensor(0.0015961108, shape=(), dtype=float32)  Batch Loss:  tf.Tensor(0.0015961108, shape=(), dtype=float32)\n",
            "\n",
            "Epoch  0  final_cost:  tf.Tensor(0.00804179, shape=(), dtype=float32)  Batch Loss:  tf.Tensor(0.00804179, shape=(), dtype=float32)\n",
            "\n",
            "Epoch  0  final_cost:  tf.Tensor(0.0069803437, shape=(), dtype=float32)  Batch Loss:  tf.Tensor(0.0069803437, shape=(), dtype=float32)\n",
            "\n",
            "Epoch  0  final_cost:  tf.Tensor(0.007865936, shape=(), dtype=float32)  Batch Loss:  tf.Tensor(0.007865936, shape=(), dtype=float32)\n",
            "\n",
            "Epoch  0  final_cost:  tf.Tensor(0.006829257, shape=(), dtype=float32)  Batch Loss:  tf.Tensor(0.006829257, shape=(), dtype=float32)\n",
            "\n",
            "Epoch  0  final_cost:  tf.Tensor(0.0067534163, shape=(), dtype=float32)  Batch Loss:  tf.Tensor(0.0067534163, shape=(), dtype=float32)\n",
            "\n",
            "Epoch  0  final_cost:  tf.Tensor(0.006677979, shape=(), dtype=float32)  Batch Loss:  tf.Tensor(0.006677979, shape=(), dtype=float32)\n",
            "\n",
            "Epoch  0  final_cost:  tf.Tensor(0.006603032, shape=(), dtype=float32)  Batch Loss:  tf.Tensor(0.006603032, shape=(), dtype=float32)\n",
            "\n",
            "Epoch  0  final_cost:  tf.Tensor(0.0014533803, shape=(), dtype=float32)  Batch Loss:  tf.Tensor(0.0014533803, shape=(), dtype=float32)\n",
            "\n",
            "Epoch  0  final_cost:  tf.Tensor(0.0014372211, shape=(), dtype=float32)  Batch Loss:  tf.Tensor(0.0014372211, shape=(), dtype=float32)\n",
            "\n",
            "Epoch  0  final_cost:  tf.Tensor(0.007274811, shape=(), dtype=float32)  Batch Loss:  tf.Tensor(0.007274811, shape=(), dtype=float32)\n",
            "\n",
            "Epoch  0  final_cost:  tf.Tensor(0.0014065237, shape=(), dtype=float32)  Batch Loss:  tf.Tensor(0.0014065237, shape=(), dtype=float32)\n",
            "\n",
            "Epoch  0  final_cost:  tf.Tensor(0.0062757097, shape=(), dtype=float32)  Batch Loss:  tf.Tensor(0.0062757097, shape=(), dtype=float32)\n",
            "\n",
            "Epoch  0  final_cost:  tf.Tensor(0.0062163724, shape=(), dtype=float32)  Batch Loss:  tf.Tensor(0.0062163724, shape=(), dtype=float32)\n",
            "\n",
            "Epoch  0  final_cost:  tf.Tensor(0.0013629644, shape=(), dtype=float32)  Batch Loss:  tf.Tensor(0.0013629644, shape=(), dtype=float32)\n",
            "\n",
            "Epoch  0  final_cost:  tf.Tensor(0.00610152, shape=(), dtype=float32)  Batch Loss:  tf.Tensor(0.00610152, shape=(), dtype=float32)\n",
            "\n",
            "Epoch  0  final_cost:  tf.Tensor(0.0060457224, shape=(), dtype=float32)  Batch Loss:  tf.Tensor(0.0060457224, shape=(), dtype=float32)\n",
            "\n",
            "Epoch  0  final_cost:  tf.Tensor(0.0013220118, shape=(), dtype=float32)  Batch Loss:  tf.Tensor(0.0013220118, shape=(), dtype=float32)\n",
            "\n",
            "Epoch  0  final_cost:  tf.Tensor(0.0067413924, shape=(), dtype=float32)  Batch Loss:  tf.Tensor(0.0067413924, shape=(), dtype=float32)\n",
            "\n",
            "Epoch  0  final_cost:  tf.Tensor(0.0012960123, shape=(), dtype=float32)  Batch Loss:  tf.Tensor(0.0012960123, shape=(), dtype=float32)\n",
            "\n",
            "Epoch  0  final_cost:  tf.Tensor(0.0066223494, shape=(), dtype=float32)  Batch Loss:  tf.Tensor(0.0066223494, shape=(), dtype=float32)\n",
            "\n",
            "Epoch  0  final_cost:  tf.Tensor(0.005783325, shape=(), dtype=float32)  Batch Loss:  tf.Tensor(0.005783325, shape=(), dtype=float32)\n",
            "\n",
            "Epoch  0  final_cost:  tf.Tensor(0.006503008, shape=(), dtype=float32)  Batch Loss:  tf.Tensor(0.006503008, shape=(), dtype=float32)\n",
            "\n",
            "Epoch  0  final_cost:  tf.Tensor(0.001245658, shape=(), dtype=float32)  Batch Loss:  tf.Tensor(0.001245658, shape=(), dtype=float32)\n",
            "\n",
            "Epoch  0  final_cost:  tf.Tensor(0.005629357, shape=(), dtype=float32)  Batch Loss:  tf.Tensor(0.005629357, shape=(), dtype=float32)\n",
            "\n",
            "Epoch  0  final_cost:  tf.Tensor(0.0063272356, shape=(), dtype=float32)  Batch Loss:  tf.Tensor(0.0063272356, shape=(), dtype=float32)\n",
            "\n",
            "Epoch  0  final_cost:  tf.Tensor(0.0012094483, shape=(), dtype=float32)  Batch Loss:  tf.Tensor(0.0012094483, shape=(), dtype=float32)\n",
            "\n",
            "Epoch  0  final_cost:  tf.Tensor(0.005482113, shape=(), dtype=float32)  Batch Loss:  tf.Tensor(0.005482113, shape=(), dtype=float32)\n",
            "\n",
            "Epoch  0  final_cost:  tf.Tensor(0.0061591286, shape=(), dtype=float32)  Batch Loss:  tf.Tensor(0.0061591286, shape=(), dtype=float32)\n",
            "\n",
            "Epoch  0  final_cost:  tf.Tensor(0.0011748502, shape=(), dtype=float32)  Batch Loss:  tf.Tensor(0.0011748502, shape=(), dtype=float32)\n",
            "\n",
            "Epoch  0  final_cost:  tf.Tensor(0.0053411243, shape=(), dtype=float32)  Batch Loss:  tf.Tensor(0.0053411243, shape=(), dtype=float32)\n",
            "\n",
            "Epoch  0  final_cost:  tf.Tensor(0.005998181, shape=(), dtype=float32)  Batch Loss:  tf.Tensor(0.005998181, shape=(), dtype=float32)\n",
            "\n",
            "Epoch  0  final_cost:  tf.Tensor(0.0059440457, shape=(), dtype=float32)  Batch Loss:  tf.Tensor(0.0059440457, shape=(), dtype=float32)\n",
            "\n",
            "Epoch  0  final_cost:  tf.Tensor(0.0058885994, shape=(), dtype=float32)  Batch Loss:  tf.Tensor(0.0058885994, shape=(), dtype=float32)\n",
            "\n",
            "Epoch  0  final_cost:  tf.Tensor(0.0058321217, shape=(), dtype=float32)  Batch Loss:  tf.Tensor(0.0058321217, shape=(), dtype=float32)\n",
            "\n",
            "Epoch  0  final_cost:  tf.Tensor(0.005774822, shape=(), dtype=float32)  Batch Loss:  tf.Tensor(0.005774822, shape=(), dtype=float32)\n",
            "\n",
            "Epoch  0  final_cost:  tf.Tensor(0.00505374, shape=(), dtype=float32)  Batch Loss:  tf.Tensor(0.00505374, shape=(), dtype=float32)\n",
            "\n",
            "Epoch  0  final_cost:  tf.Tensor(0.005659559, shape=(), dtype=float32)  Batch Loss:  tf.Tensor(0.005659559, shape=(), dtype=float32)\n",
            "\n",
            "Epoch  0  final_cost:  tf.Tensor(0.0049547814, shape=(), dtype=float32)  Batch Loss:  tf.Tensor(0.0049547814, shape=(), dtype=float32)\n",
            "\n",
            "Epoch  0  final_cost:  tf.Tensor(0.005544817, shape=(), dtype=float32)  Batch Loss:  tf.Tensor(0.005544817, shape=(), dtype=float32)\n",
            "\n",
            "Epoch  0  final_cost:  tf.Tensor(0.0010523755, shape=(), dtype=float32)  Batch Loss:  tf.Tensor(0.0010523755, shape=(), dtype=float32)\n",
            "\n",
            "Epoch  0  final_cost:  tf.Tensor(0.0054353504, shape=(), dtype=float32)  Batch Loss:  tf.Tensor(0.0054353504, shape=(), dtype=float32)\n",
            "\n",
            "Epoch  0  final_cost:  tf.Tensor(0.004765985, shape=(), dtype=float32)  Batch Loss:  tf.Tensor(0.004765985, shape=(), dtype=float32)\n",
            "\n",
            "Epoch  0  final_cost:  tf.Tensor(0.0010215618, shape=(), dtype=float32)  Batch Loss:  tf.Tensor(0.0010215618, shape=(), dtype=float32)\n",
            "\n",
            "Epoch  0  final_cost:  tf.Tensor(0.0010119717, shape=(), dtype=float32)  Batch Loss:  tf.Tensor(0.0010119717, shape=(), dtype=float32)\n",
            "\n",
            "Epoch  0  final_cost:  tf.Tensor(0.0010029154, shape=(), dtype=float32)  Batch Loss:  tf.Tensor(0.0010029154, shape=(), dtype=float32)\n",
            "\n",
            "Epoch  0  final_cost:  tf.Tensor(0.00460679, shape=(), dtype=float32)  Batch Loss:  tf.Tensor(0.00460679, shape=(), dtype=float32)\n",
            "\n",
            "Epoch  0  final_cost:  tf.Tensor(0.0009857654, shape=(), dtype=float32)  Batch Loss:  tf.Tensor(0.0009857654, shape=(), dtype=float32)\n",
            "\n",
            "Epoch  0  final_cost:  tf.Tensor(0.005119603, shape=(), dtype=float32)  Batch Loss:  tf.Tensor(0.005119603, shape=(), dtype=float32)\n",
            "\n",
            "Epoch  0  final_cost:  tf.Tensor(0.0045045675, shape=(), dtype=float32)  Batch Loss:  tf.Tensor(0.0045045675, shape=(), dtype=float32)\n",
            "\n",
            "Epoch  0  final_cost:  tf.Tensor(0.005040439, shape=(), dtype=float32)  Batch Loss:  tf.Tensor(0.005040439, shape=(), dtype=float32)\n",
            "\n",
            "Epoch  0  final_cost:  tf.Tensor(0.004999342, shape=(), dtype=float32)  Batch Loss:  tf.Tensor(0.004999342, shape=(), dtype=float32)\n",
            "\n",
            "Epoch  0  final_cost:  tf.Tensor(0.004957229, shape=(), dtype=float32)  Batch Loss:  tf.Tensor(0.004957229, shape=(), dtype=float32)\n",
            "\n",
            "Epoch  0  final_cost:  tf.Tensor(0.00093559874, shape=(), dtype=float32)  Batch Loss:  tf.Tensor(0.00093559874, shape=(), dtype=float32)\n",
            "\n",
            "Epoch  0  final_cost:  tf.Tensor(0.00092753, shape=(), dtype=float32)  Batch Loss:  tf.Tensor(0.00092753, shape=(), dtype=float32)\n",
            "\n",
            "Epoch  0  final_cost:  tf.Tensor(0.00091989274, shape=(), dtype=float32)  Batch Loss:  tf.Tensor(0.00091989274, shape=(), dtype=float32)\n",
            "\n",
            "Epoch  0  final_cost:  tf.Tensor(0.0048053158, shape=(), dtype=float32)  Batch Loss:  tf.Tensor(0.0048053158, shape=(), dtype=float32)\n",
            "\n",
            "Epoch  0  final_cost:  tf.Tensor(0.0042364597, shape=(), dtype=float32)  Batch Loss:  tf.Tensor(0.0042364597, shape=(), dtype=float32)\n",
            "\n",
            "Epoch  0  final_cost:  tf.Tensor(0.004734874, shape=(), dtype=float32)  Batch Loss:  tf.Tensor(0.004734874, shape=(), dtype=float32)\n",
            "\n",
            "Epoch  0  final_cost:  tf.Tensor(0.0041738907, shape=(), dtype=float32)  Batch Loss:  tf.Tensor(0.0041738907, shape=(), dtype=float32)\n",
            "\n",
            "Epoch  0  final_cost:  tf.Tensor(0.004661135, shape=(), dtype=float32)  Batch Loss:  tf.Tensor(0.004661135, shape=(), dtype=float32)\n",
            "\n",
            "Epoch  0  final_cost:  tf.Tensor(0.004623208, shape=(), dtype=float32)  Batch Loss:  tf.Tensor(0.004623208, shape=(), dtype=float32)\n",
            "\n",
            "Epoch  0  final_cost:  tf.Tensor(0.0040754247, shape=(), dtype=float32)  Batch Loss:  tf.Tensor(0.0040754247, shape=(), dtype=float32)\n",
            "\n",
            "Epoch  0  final_cost:  tf.Tensor(0.0008599845, shape=(), dtype=float32)  Batch Loss:  tf.Tensor(0.0008599845, shape=(), dtype=float32)\n",
            "\n",
            "Epoch  0  final_cost:  tf.Tensor(0.0008528298, shape=(), dtype=float32)  Batch Loss:  tf.Tensor(0.0008528298, shape=(), dtype=float32)\n",
            "\n",
            "Epoch  0  final_cost:  tf.Tensor(0.0044780197, shape=(), dtype=float32)  Batch Loss:  tf.Tensor(0.0044780197, shape=(), dtype=float32)\n",
            "\n",
            "Epoch  0  final_cost:  tf.Tensor(0.0008391946, shape=(), dtype=float32)  Batch Loss:  tf.Tensor(0.0008391946, shape=(), dtype=float32)\n",
            "\n",
            "Epoch  0  final_cost:  tf.Tensor(0.0044134613, shape=(), dtype=float32)  Batch Loss:  tf.Tensor(0.0044134613, shape=(), dtype=float32)\n",
            "\n",
            "Epoch  0  final_cost:  tf.Tensor(0.0043813535, shape=(), dtype=float32)  Batch Loss:  tf.Tensor(0.0043813535, shape=(), dtype=float32)\n",
            "\n",
            "Epoch  0  final_cost:  tf.Tensor(0.00081936544, shape=(), dtype=float32)  Batch Loss:  tf.Tensor(0.00081936544, shape=(), dtype=float32)\n",
            "\n",
            "Epoch  0  final_cost:  tf.Tensor(0.0043178094, shape=(), dtype=float32)  Batch Loss:  tf.Tensor(0.0043178094, shape=(), dtype=float32)\n",
            "\n",
            "Epoch  0  final_cost:  tf.Tensor(0.00080656924, shape=(), dtype=float32)  Batch Loss:  tf.Tensor(0.00080656924, shape=(), dtype=float32)\n",
            "\n",
            "Epoch  0  final_cost:  tf.Tensor(0.0037916454, shape=(), dtype=float32)  Batch Loss:  tf.Tensor(0.0037916454, shape=(), dtype=float32)\n",
            "\n",
            "Epoch  0  final_cost:  tf.Tensor(0.0037659572, shape=(), dtype=float32)  Batch Loss:  tf.Tensor(0.0037659572, shape=(), dtype=float32)\n",
            "\n",
            "Epoch  0  final_cost:  tf.Tensor(0.0041977186, shape=(), dtype=float32)  Batch Loss:  tf.Tensor(0.0041977186, shape=(), dtype=float32)\n",
            "\n",
            "Epoch  0  final_cost:  tf.Tensor(0.0037128688, shape=(), dtype=float32)  Batch Loss:  tf.Tensor(0.0037128688, shape=(), dtype=float32)\n",
            "\n",
            "Epoch  0  final_cost:  tf.Tensor(0.00413557, shape=(), dtype=float32)  Batch Loss:  tf.Tensor(0.00413557, shape=(), dtype=float32)\n",
            "\n",
            "Epoch  0  final_cost:  tf.Tensor(0.00076943345, shape=(), dtype=float32)  Batch Loss:  tf.Tensor(0.00076943345, shape=(), dtype=float32)\n",
            "\n",
            "Epoch  0  final_cost:  tf.Tensor(0.004074384, shape=(), dtype=float32)  Batch Loss:  tf.Tensor(0.004074384, shape=(), dtype=float32)\n",
            "\n",
            "Epoch  0  final_cost:  tf.Tensor(0.0007574818, shape=(), dtype=float32)  Batch Loss:  tf.Tensor(0.0007574818, shape=(), dtype=float32)\n",
            "\n",
            "Epoch  0  final_cost:  tf.Tensor(0.0035820976, shape=(), dtype=float32)  Batch Loss:  tf.Tensor(0.0035820976, shape=(), dtype=float32)\n",
            "\n",
            "Epoch  0  final_cost:  tf.Tensor(0.0007461003, shape=(), dtype=float32)  Batch Loss:  tf.Tensor(0.0007461003, shape=(), dtype=float32)\n",
            "\n",
            "Epoch  0  final_cost:  tf.Tensor(0.0035350434, shape=(), dtype=float32)  Batch Loss:  tf.Tensor(0.0035350434, shape=(), dtype=float32)\n",
            "\n",
            "Epoch  0  final_cost:  tf.Tensor(0.000735283, shape=(), dtype=float32)  Batch Loss:  tf.Tensor(0.000735283, shape=(), dtype=float32)\n",
            "\n",
            "Epoch  0  final_cost:  tf.Tensor(0.0034907057, shape=(), dtype=float32)  Batch Loss:  tf.Tensor(0.0034907057, shape=(), dtype=float32)\n",
            "\n",
            "Epoch  0  final_cost:  tf.Tensor(0.0007249492, shape=(), dtype=float32)  Batch Loss:  tf.Tensor(0.0007249492, shape=(), dtype=float32)\n",
            "\n",
            "Epoch  0  final_cost:  tf.Tensor(0.0034486484, shape=(), dtype=float32)  Batch Loss:  tf.Tensor(0.0034486484, shape=(), dtype=float32)\n",
            "\n",
            "Epoch  1  final_cost:  tf.Tensor(0.0034278003, shape=(), dtype=float32)  Batch Loss:  tf.Tensor(0.0034278003, shape=(), dtype=float32)\n",
            "\n",
            "Epoch  1  final_cost:  tf.Tensor(0.0007100034, shape=(), dtype=float32)  Batch Loss:  tf.Tensor(0.0007100034, shape=(), dtype=float32)\n",
            "\n",
            "Epoch  1  final_cost:  tf.Tensor(0.00338662, shape=(), dtype=float32)  Batch Loss:  tf.Tensor(0.00338662, shape=(), dtype=float32)\n",
            "\n",
            "Epoch  1  final_cost:  tf.Tensor(0.0037705265, shape=(), dtype=float32)  Batch Loss:  tf.Tensor(0.0037705265, shape=(), dtype=float32)\n",
            "\n",
            "Epoch  1  final_cost:  tf.Tensor(0.0037463387, shape=(), dtype=float32)  Batch Loss:  tf.Tensor(0.0037463387, shape=(), dtype=float32)\n",
            "\n",
            "Epoch  1  final_cost:  tf.Tensor(0.0037212393, shape=(), dtype=float32)  Batch Loss:  tf.Tensor(0.0037212393, shape=(), dtype=float32)\n",
            "\n",
            "Epoch  1  final_cost:  tf.Tensor(0.0033002964, shape=(), dtype=float32)  Batch Loss:  tf.Tensor(0.0033002964, shape=(), dtype=float32)\n",
            "\n",
            "Epoch  1  final_cost:  tf.Tensor(0.0036692922, shape=(), dtype=float32)  Batch Loss:  tf.Tensor(0.0036692922, shape=(), dtype=float32)\n",
            "\n",
            "Epoch  1  final_cost:  tf.Tensor(0.00067498256, shape=(), dtype=float32)  Batch Loss:  tf.Tensor(0.00067498256, shape=(), dtype=float32)\n",
            "\n",
            "Epoch  1  final_cost:  tf.Tensor(0.0036181556, shape=(), dtype=float32)  Batch Loss:  tf.Tensor(0.0036181556, shape=(), dtype=float32)\n",
            "\n",
            "Epoch  1  final_cost:  tf.Tensor(0.00066514884, shape=(), dtype=float32)  Batch Loss:  tf.Tensor(0.00066514884, shape=(), dtype=float32)\n",
            "\n",
            "Epoch  1  final_cost:  tf.Tensor(0.0035698581, shape=(), dtype=float32)  Batch Loss:  tf.Tensor(0.0035698581, shape=(), dtype=float32)\n",
            "\n",
            "Epoch  1  final_cost:  tf.Tensor(0.0006557174, shape=(), dtype=float32)  Batch Loss:  tf.Tensor(0.0006557174, shape=(), dtype=float32)\n",
            "\n",
            "Epoch  1  final_cost:  tf.Tensor(0.0035239756, shape=(), dtype=float32)  Batch Loss:  tf.Tensor(0.0035239756, shape=(), dtype=float32)\n",
            "\n",
            "Epoch  1  final_cost:  tf.Tensor(0.0006466379, shape=(), dtype=float32)  Batch Loss:  tf.Tensor(0.0006466379, shape=(), dtype=float32)\n",
            "\n",
            "Epoch  1  final_cost:  tf.Tensor(0.0034801497, shape=(), dtype=float32)  Batch Loss:  tf.Tensor(0.0034801497, shape=(), dtype=float32)\n",
            "\n",
            "Epoch  1  final_cost:  tf.Tensor(0.0034582631, shape=(), dtype=float32)  Batch Loss:  tf.Tensor(0.0034582631, shape=(), dtype=float32)\n",
            "\n",
            "Epoch  1  final_cost:  tf.Tensor(0.003435622, shape=(), dtype=float32)  Batch Loss:  tf.Tensor(0.003435622, shape=(), dtype=float32)\n",
            "\n",
            "Epoch  1  final_cost:  tf.Tensor(0.00062879286, shape=(), dtype=float32)  Batch Loss:  tf.Tensor(0.00062879286, shape=(), dtype=float32)\n",
            "\n",
            "Epoch  1  final_cost:  tf.Tensor(0.00062447885, shape=(), dtype=float32)  Batch Loss:  tf.Tensor(0.00062447885, shape=(), dtype=float32)\n",
            "\n",
            "Epoch  1  final_cost:  tf.Tensor(0.0030171887, shape=(), dtype=float32)  Batch Loss:  tf.Tensor(0.0030171887, shape=(), dtype=float32)\n",
            "\n",
            "Epoch  1  final_cost:  tf.Tensor(0.0029995423, shape=(), dtype=float32)  Batch Loss:  tf.Tensor(0.0029995423, shape=(), dtype=float32)\n",
            "\n",
            "Epoch  1  final_cost:  tf.Tensor(0.003330479, shape=(), dtype=float32)  Batch Loss:  tf.Tensor(0.003330479, shape=(), dtype=float32)\n",
            "\n",
            "Epoch  1  final_cost:  tf.Tensor(0.0033091633, shape=(), dtype=float32)  Batch Loss:  tf.Tensor(0.0033091633, shape=(), dtype=float32)\n",
            "\n",
            "Epoch  1  final_cost:  tf.Tensor(0.0032872416, shape=(), dtype=float32)  Batch Loss:  tf.Tensor(0.0032872416, shape=(), dtype=float32)\n",
            "\n",
            "Epoch  1  final_cost:  tf.Tensor(0.003264807, shape=(), dtype=float32)  Batch Loss:  tf.Tensor(0.003264807, shape=(), dtype=float32)\n",
            "\n",
            "Epoch  1  final_cost:  tf.Tensor(0.0005949153, shape=(), dtype=float32)  Batch Loss:  tf.Tensor(0.0005949153, shape=(), dtype=float32)\n",
            "\n",
            "Epoch  1  final_cost:  tf.Tensor(0.0005907966, shape=(), dtype=float32)  Batch Loss:  tf.Tensor(0.0005907966, shape=(), dtype=float32)\n",
            "\n",
            "Epoch  1  final_cost:  tf.Tensor(0.0028689536, shape=(), dtype=float32)  Batch Loss:  tf.Tensor(0.0028689536, shape=(), dtype=float32)\n",
            "\n",
            "Epoch  1  final_cost:  tf.Tensor(0.002851761, shape=(), dtype=float32)  Batch Loss:  tf.Tensor(0.002851761, shape=(), dtype=float32)\n",
            "\n",
            "Epoch  1  final_cost:  tf.Tensor(0.003162164, shape=(), dtype=float32)  Batch Loss:  tf.Tensor(0.003162164, shape=(), dtype=float32)\n",
            "\n",
            "Epoch  1  final_cost:  tf.Tensor(0.0005750925, shape=(), dtype=float32)  Batch Loss:  tf.Tensor(0.0005750925, shape=(), dtype=float32)\n",
            "\n",
            "Epoch  1  final_cost:  tf.Tensor(0.0031229015, shape=(), dtype=float32)  Batch Loss:  tf.Tensor(0.0031229015, shape=(), dtype=float32)\n",
            "\n",
            "Epoch  1  final_cost:  tf.Tensor(0.00278282, shape=(), dtype=float32)  Batch Loss:  tf.Tensor(0.00278282, shape=(), dtype=float32)\n",
            "\n",
            "Epoch  1  final_cost:  tf.Tensor(0.0027655691, shape=(), dtype=float32)  Batch Loss:  tf.Tensor(0.0027655691, shape=(), dtype=float32)\n",
            "\n",
            "Epoch  1  final_cost:  tf.Tensor(0.0005598431, shape=(), dtype=float32)  Batch Loss:  tf.Tensor(0.0005598431, shape=(), dtype=float32)\n",
            "\n",
            "Epoch  1  final_cost:  tf.Tensor(0.00055622717, shape=(), dtype=float32)  Batch Loss:  tf.Tensor(0.00055622717, shape=(), dtype=float32)\n",
            "\n",
            "Epoch  1  final_cost:  tf.Tensor(0.0030290468, shape=(), dtype=float32)  Batch Loss:  tf.Tensor(0.0030290468, shape=(), dtype=float32)\n",
            "\n",
            "Epoch  1  final_cost:  tf.Tensor(0.0027019694, shape=(), dtype=float32)  Batch Loss:  tf.Tensor(0.0027019694, shape=(), dtype=float32)\n",
            "\n",
            "Epoch  1  final_cost:  tf.Tensor(0.00054577243, shape=(), dtype=float32)  Batch Loss:  tf.Tensor(0.00054577243, shape=(), dtype=float32)\n",
            "\n",
            "Epoch  1  final_cost:  tf.Tensor(0.0029773328, shape=(), dtype=float32)  Batch Loss:  tf.Tensor(0.0029773328, shape=(), dtype=float32)\n",
            "\n",
            "Epoch  1  final_cost:  tf.Tensor(0.0005390205, shape=(), dtype=float32)  Batch Loss:  tf.Tensor(0.0005390205, shape=(), dtype=float32)\n",
            "\n",
            "Epoch  1  final_cost:  tf.Tensor(0.0029444525, shape=(), dtype=float32)  Batch Loss:  tf.Tensor(0.0029444525, shape=(), dtype=float32)\n",
            "\n",
            "Epoch  1  final_cost:  tf.Tensor(0.00053247134, shape=(), dtype=float32)  Batch Loss:  tf.Tensor(0.00053247134, shape=(), dtype=float32)\n",
            "\n",
            "Epoch  1  final_cost:  tf.Tensor(0.0026149994, shape=(), dtype=float32)  Batch Loss:  tf.Tensor(0.0026149994, shape=(), dtype=float32)\n",
            "\n",
            "Epoch  1  final_cost:  tf.Tensor(0.0026011895, shape=(), dtype=float32)  Batch Loss:  tf.Tensor(0.0026011895, shape=(), dtype=float32)\n",
            "\n",
            "Epoch  1  final_cost:  tf.Tensor(0.0028809847, shape=(), dtype=float32)  Batch Loss:  tf.Tensor(0.0028809847, shape=(), dtype=float32)\n",
            "\n",
            "Epoch  1  final_cost:  tf.Tensor(0.0005196518, shape=(), dtype=float32)  Batch Loss:  tf.Tensor(0.0005196518, shape=(), dtype=float32)\n",
            "\n",
            "Epoch  1  final_cost:  tf.Tensor(0.002558757, shape=(), dtype=float32)  Batch Loss:  tf.Tensor(0.002558757, shape=(), dtype=float32)\n",
            "\n",
            "Epoch  1  final_cost:  tf.Tensor(0.0028331878, shape=(), dtype=float32)  Batch Loss:  tf.Tensor(0.0028331878, shape=(), dtype=float32)\n",
            "\n",
            "Epoch  1  final_cost:  tf.Tensor(0.0028168457, shape=(), dtype=float32)  Batch Loss:  tf.Tensor(0.0028168457, shape=(), dtype=float32)\n",
            "\n",
            "Epoch  1  final_cost:  tf.Tensor(0.00050694606, shape=(), dtype=float32)  Batch Loss:  tf.Tensor(0.00050694606, shape=(), dtype=float32)\n",
            "\n",
            "Epoch  1  final_cost:  tf.Tensor(0.002784484, shape=(), dtype=float32)  Batch Loss:  tf.Tensor(0.002784484, shape=(), dtype=float32)\n",
            "\n",
            "Epoch  1  final_cost:  tf.Tensor(0.00248783, shape=(), dtype=float32)  Batch Loss:  tf.Tensor(0.00248783, shape=(), dtype=float32)\n",
            "\n",
            "Epoch  1  final_cost:  tf.Tensor(0.0004975785, shape=(), dtype=float32)  Batch Loss:  tf.Tensor(0.0004975785, shape=(), dtype=float32)\n",
            "\n",
            "Epoch  1  final_cost:  tf.Tensor(0.002737153, shape=(), dtype=float32)  Batch Loss:  tf.Tensor(0.002737153, shape=(), dtype=float32)\n",
            "\n",
            "Epoch  1  final_cost:  tf.Tensor(0.0024465949, shape=(), dtype=float32)  Batch Loss:  tf.Tensor(0.0024465949, shape=(), dtype=float32)\n",
            "\n",
            "Epoch  1  final_cost:  tf.Tensor(0.002432691, shape=(), dtype=float32)  Batch Loss:  tf.Tensor(0.002432691, shape=(), dtype=float32)\n",
            "\n",
            "Epoch  1  final_cost:  tf.Tensor(0.0024186051, shape=(), dtype=float32)  Batch Loss:  tf.Tensor(0.0024186051, shape=(), dtype=float32)\n",
            "\n",
            "Epoch  1  final_cost:  tf.Tensor(0.0004823861, shape=(), dtype=float32)  Batch Loss:  tf.Tensor(0.0004823861, shape=(), dtype=float32)\n",
            "\n",
            "Epoch  1  final_cost:  tf.Tensor(0.0023912853, shape=(), dtype=float32)  Batch Loss:  tf.Tensor(0.0023912853, shape=(), dtype=float32)\n",
            "\n",
            "Epoch  1  final_cost:  tf.Tensor(0.0023779557, shape=(), dtype=float32)  Batch Loss:  tf.Tensor(0.0023779557, shape=(), dtype=float32)\n",
            "\n",
            "Epoch  1  final_cost:  tf.Tensor(0.0023644282, shape=(), dtype=float32)  Batch Loss:  tf.Tensor(0.0023644282, shape=(), dtype=float32)\n",
            "\n",
            "Epoch  1  final_cost:  tf.Tensor(0.0023507392, shape=(), dtype=float32)  Batch Loss:  tf.Tensor(0.0023507392, shape=(), dtype=float32)\n",
            "\n",
            "Epoch  1  final_cost:  tf.Tensor(0.00046777885, shape=(), dtype=float32)  Batch Loss:  tf.Tensor(0.00046777885, shape=(), dtype=float32)\n",
            "\n",
            "Epoch  1  final_cost:  tf.Tensor(0.00046500412, shape=(), dtype=float32)  Batch Loss:  tf.Tensor(0.00046500412, shape=(), dtype=float32)\n",
            "\n",
            "Epoch  1  final_cost:  tf.Tensor(0.0025703686, shape=(), dtype=float32)  Batch Loss:  tf.Tensor(0.0025703686, shape=(), dtype=float32)\n",
            "\n",
            "Epoch  1  final_cost:  tf.Tensor(0.0025566332, shape=(), dtype=float32)  Batch Loss:  tf.Tensor(0.0025566332, shape=(), dtype=float32)\n",
            "\n",
            "Epoch  1  final_cost:  tf.Tensor(0.0025424007, shape=(), dtype=float32)  Batch Loss:  tf.Tensor(0.0025424007, shape=(), dtype=float32)\n",
            "\n",
            "Epoch  1  final_cost:  tf.Tensor(0.0022747794, shape=(), dtype=float32)  Batch Loss:  tf.Tensor(0.0022747794, shape=(), dtype=float32)\n",
            "\n",
            "Epoch  1  final_cost:  tf.Tensor(0.00045134174, shape=(), dtype=float32)  Batch Loss:  tf.Tensor(0.00045134174, shape=(), dtype=float32)\n",
            "\n",
            "Epoch  1  final_cost:  tf.Tensor(0.00044870097, shape=(), dtype=float32)  Batch Loss:  tf.Tensor(0.00044870097, shape=(), dtype=float32)\n",
            "\n",
            "Epoch  1  final_cost:  tf.Tensor(0.0024868357, shape=(), dtype=float32)  Batch Loss:  tf.Tensor(0.0024868357, shape=(), dtype=float32)\n",
            "\n",
            "Epoch  1  final_cost:  tf.Tensor(0.002227025, shape=(), dtype=float32)  Batch Loss:  tf.Tensor(0.002227025, shape=(), dtype=float32)\n",
            "\n",
            "Epoch  1  final_cost:  tf.Tensor(0.00044106456, shape=(), dtype=float32)  Batch Loss:  tf.Tensor(0.00044106456, shape=(), dtype=float32)\n",
            "\n",
            "Epoch  1  final_cost:  tf.Tensor(0.0024481993, shape=(), dtype=float32)  Batch Loss:  tf.Tensor(0.0024481993, shape=(), dtype=float32)\n",
            "\n",
            "Epoch  1  final_cost:  tf.Tensor(0.0024354113, shape=(), dtype=float32)  Batch Loss:  tf.Tensor(0.0024354113, shape=(), dtype=float32)\n",
            "\n",
            "Epoch  1  final_cost:  tf.Tensor(0.00043357533, shape=(), dtype=float32)  Batch Loss:  tf.Tensor(0.00043357533, shape=(), dtype=float32)\n",
            "\n",
            "Epoch  1  final_cost:  tf.Tensor(0.00043116568, shape=(), dtype=float32)  Batch Loss:  tf.Tensor(0.00043116568, shape=(), dtype=float32)\n",
            "\n",
            "Epoch  1  final_cost:  tf.Tensor(0.0023987067, shape=(), dtype=float32)  Batch Loss:  tf.Tensor(0.0023987067, shape=(), dtype=float32)\n",
            "\n",
            "Epoch  1  final_cost:  tf.Tensor(0.002386868, shape=(), dtype=float32)  Batch Loss:  tf.Tensor(0.002386868, shape=(), dtype=float32)\n",
            "\n",
            "Epoch  1  final_cost:  tf.Tensor(0.00042412616, shape=(), dtype=float32)  Batch Loss:  tf.Tensor(0.00042412616, shape=(), dtype=float32)\n",
            "\n",
            "Epoch  1  final_cost:  tf.Tensor(0.00042185048, shape=(), dtype=float32)  Batch Loss:  tf.Tensor(0.00042185048, shape=(), dtype=float32)\n",
            "\n",
            "Epoch  1  final_cost:  tf.Tensor(0.002120061, shape=(), dtype=float32)  Batch Loss:  tf.Tensor(0.002120061, shape=(), dtype=float32)\n",
            "\n",
            "Epoch  1  final_cost:  tf.Tensor(0.0021104184, shape=(), dtype=float32)  Batch Loss:  tf.Tensor(0.0021104184, shape=(), dtype=float32)\n",
            "\n",
            "Epoch  1  final_cost:  tf.Tensor(0.0021004505, shape=(), dtype=float32)  Batch Loss:  tf.Tensor(0.0021004505, shape=(), dtype=float32)\n",
            "\n",
            "Epoch  1  final_cost:  tf.Tensor(0.0023189175, shape=(), dtype=float32)  Batch Loss:  tf.Tensor(0.0023189175, shape=(), dtype=float32)\n",
            "\n",
            "Epoch  1  final_cost:  tf.Tensor(0.002079557, shape=(), dtype=float32)  Batch Loss:  tf.Tensor(0.002079557, shape=(), dtype=float32)\n",
            "\n",
            "Epoch  1  final_cost:  tf.Tensor(0.0020687233, shape=(), dtype=float32)  Batch Loss:  tf.Tensor(0.0020687233, shape=(), dtype=float32)\n",
            "\n",
            "Epoch  1  final_cost:  tf.Tensor(0.0020577302, shape=(), dtype=float32)  Batch Loss:  tf.Tensor(0.0020577302, shape=(), dtype=float32)\n",
            "\n",
            "Epoch  1  final_cost:  tf.Tensor(0.002046605, shape=(), dtype=float32)  Batch Loss:  tf.Tensor(0.002046605, shape=(), dtype=float32)\n",
            "\n",
            "Epoch  1  final_cost:  tf.Tensor(0.00040129334, shape=(), dtype=float32)  Batch Loss:  tf.Tensor(0.00040129334, shape=(), dtype=float32)\n",
            "\n",
            "Epoch  1  final_cost:  tf.Tensor(0.002025052, shape=(), dtype=float32)  Batch Loss:  tf.Tensor(0.002025052, shape=(), dtype=float32)\n",
            "\n",
            "Epoch  1  final_cost:  tf.Tensor(0.0022337928, shape=(), dtype=float32)  Batch Loss:  tf.Tensor(0.0022337928, shape=(), dtype=float32)\n",
            "\n",
            "Epoch  1  final_cost:  tf.Tensor(0.00039455932, shape=(), dtype=float32)  Batch Loss:  tf.Tensor(0.00039455932, shape=(), dtype=float32)\n",
            "\n",
            "Epoch  1  final_cost:  tf.Tensor(0.0019938657, shape=(), dtype=float32)  Batch Loss:  tf.Tensor(0.0019938657, shape=(), dtype=float32)\n",
            "\n",
            "Epoch  1  final_cost:  tf.Tensor(0.001983769, shape=(), dtype=float32)  Batch Loss:  tf.Tensor(0.001983769, shape=(), dtype=float32)\n",
            "\n",
            "Epoch  1  final_cost:  tf.Tensor(0.0003880759, shape=(), dtype=float32)  Batch Loss:  tf.Tensor(0.0003880759, shape=(), dtype=float32)\n",
            "\n",
            "Epoch  1  final_cost:  tf.Tensor(0.0003860233, shape=(), dtype=float32)  Batch Loss:  tf.Tensor(0.0003860233, shape=(), dtype=float32)\n",
            "\n",
            "Epoch  1  final_cost:  tf.Tensor(0.0021673208, shape=(), dtype=float32)  Batch Loss:  tf.Tensor(0.0021673208, shape=(), dtype=float32)\n",
            "\n",
            "Epoch  1  final_cost:  tf.Tensor(0.0019462539, shape=(), dtype=float32)  Batch Loss:  tf.Tensor(0.0019462539, shape=(), dtype=float32)\n",
            "\n",
            "Epoch  1  final_cost:  tf.Tensor(0.0021465777, shape=(), dtype=float32)  Batch Loss:  tf.Tensor(0.0021465777, shape=(), dtype=float32)\n",
            "\n",
            "Epoch  1  final_cost:  tf.Tensor(0.00037798926, shape=(), dtype=float32)  Batch Loss:  tf.Tensor(0.00037798926, shape=(), dtype=float32)\n",
            "\n",
            "Epoch  1  final_cost:  tf.Tensor(0.0021256704, shape=(), dtype=float32)  Batch Loss:  tf.Tensor(0.0021256704, shape=(), dtype=float32)\n",
            "\n",
            "Epoch  1  final_cost:  tf.Tensor(0.0019090755, shape=(), dtype=float32)  Batch Loss:  tf.Tensor(0.0019090755, shape=(), dtype=float32)\n",
            "\n",
            "Epoch  1  final_cost:  tf.Tensor(0.0003720162, shape=(), dtype=float32)  Batch Loss:  tf.Tensor(0.0003720162, shape=(), dtype=float32)\n",
            "\n",
            "Epoch  1  final_cost:  tf.Tensor(0.002094828, shape=(), dtype=float32)  Batch Loss:  tf.Tensor(0.002094828, shape=(), dtype=float32)\n",
            "\n",
            "Epoch  1  final_cost:  tf.Tensor(0.0020846375, shape=(), dtype=float32)  Batch Loss:  tf.Tensor(0.0020846375, shape=(), dtype=float32)\n",
            "\n",
            "Epoch  1  final_cost:  tf.Tensor(0.00036616385, shape=(), dtype=float32)  Batch Loss:  tf.Tensor(0.00036616385, shape=(), dtype=float32)\n",
            "\n",
            "Epoch  1  final_cost:  tf.Tensor(0.000364282, shape=(), dtype=float32)  Batch Loss:  tf.Tensor(0.000364282, shape=(), dtype=float32)\n",
            "\n",
            "Epoch  1  final_cost:  tf.Tensor(0.00036250328, shape=(), dtype=float32)  Batch Loss:  tf.Tensor(0.00036250328, shape=(), dtype=float32)\n",
            "\n",
            "Epoch  1  final_cost:  tf.Tensor(0.00036081654, shape=(), dtype=float32)  Batch Loss:  tf.Tensor(0.00036081654, shape=(), dtype=float32)\n",
            "\n",
            "Epoch  1  final_cost:  tf.Tensor(0.0018418971, shape=(), dtype=float32)  Batch Loss:  tf.Tensor(0.0018418971, shape=(), dtype=float32)\n",
            "\n",
            "Epoch  1  final_cost:  tf.Tensor(0.00035756276, shape=(), dtype=float32)  Batch Loss:  tf.Tensor(0.00035756276, shape=(), dtype=float32)\n",
            "\n",
            "Epoch  1  final_cost:  tf.Tensor(0.00035599267, shape=(), dtype=float32)  Batch Loss:  tf.Tensor(0.00035599267, shape=(), dtype=float32)\n",
            "\n",
            "Epoch  1  final_cost:  tf.Tensor(0.0020169674, shape=(), dtype=float32)  Batch Loss:  tf.Tensor(0.0020169674, shape=(), dtype=float32)\n",
            "\n",
            "Epoch  1  final_cost:  tf.Tensor(0.0020093743, shape=(), dtype=float32)  Batch Loss:  tf.Tensor(0.0020093743, shape=(), dtype=float32)\n",
            "\n",
            "Epoch  1  final_cost:  tf.Tensor(0.00035128003, shape=(), dtype=float32)  Batch Loss:  tf.Tensor(0.00035128003, shape=(), dtype=float32)\n",
            "\n",
            "Epoch  1  final_cost:  tf.Tensor(0.0018012313, shape=(), dtype=float32)  Batch Loss:  tf.Tensor(0.0018012313, shape=(), dtype=float32)\n",
            "\n",
            "Epoch  1  final_cost:  tf.Tensor(0.00034811732, shape=(), dtype=float32)  Batch Loss:  tf.Tensor(0.00034811732, shape=(), dtype=float32)\n",
            "\n",
            "Epoch  1  final_cost:  tf.Tensor(0.00034659423, shape=(), dtype=float32)  Batch Loss:  tf.Tensor(0.00034659423, shape=(), dtype=float32)\n",
            "\n",
            "Epoch  1  final_cost:  tf.Tensor(0.0003451417, shape=(), dtype=float32)  Batch Loss:  tf.Tensor(0.0003451417, shape=(), dtype=float32)\n",
            "\n",
            "Epoch  1  final_cost:  tf.Tensor(0.0017759482, shape=(), dtype=float32)  Batch Loss:  tf.Tensor(0.0017759482, shape=(), dtype=float32)\n",
            "\n",
            "Epoch  1  final_cost:  tf.Tensor(0.00034230982, shape=(), dtype=float32)  Batch Loss:  tf.Tensor(0.00034230982, shape=(), dtype=float32)\n",
            "\n",
            "Epoch  1  final_cost:  tf.Tensor(0.00034093068, shape=(), dtype=float32)  Batch Loss:  tf.Tensor(0.00034093068, shape=(), dtype=float32)\n",
            "\n",
            "Epoch  1  final_cost:  tf.Tensor(0.0019460754, shape=(), dtype=float32)  Batch Loss:  tf.Tensor(0.0019460754, shape=(), dtype=float32)\n",
            "\n",
            "Epoch  1  final_cost:  tf.Tensor(0.0017530171, shape=(), dtype=float32)  Batch Loss:  tf.Tensor(0.0017530171, shape=(), dtype=float32)\n",
            "\n",
            "Epoch  1  final_cost:  tf.Tensor(0.0019324158, shape=(), dtype=float32)  Batch Loss:  tf.Tensor(0.0019324158, shape=(), dtype=float32)\n",
            "\n",
            "Epoch  1  final_cost:  tf.Tensor(0.0003352327, shape=(), dtype=float32)  Batch Loss:  tf.Tensor(0.0003352327, shape=(), dtype=float32)\n",
            "\n",
            "Epoch  1  final_cost:  tf.Tensor(0.0017337487, shape=(), dtype=float32)  Batch Loss:  tf.Tensor(0.0017337487, shape=(), dtype=float32)\n",
            "\n",
            "Epoch  1  final_cost:  tf.Tensor(0.0017271506, shape=(), dtype=float32)  Batch Loss:  tf.Tensor(0.0017271506, shape=(), dtype=float32)\n",
            "\n",
            "Epoch  1  final_cost:  tf.Tensor(0.0003307792, shape=(), dtype=float32)  Batch Loss:  tf.Tensor(0.0003307792, shape=(), dtype=float32)\n",
            "\n",
            "Epoch  1  final_cost:  tf.Tensor(0.00032933347, shape=(), dtype=float32)  Batch Loss:  tf.Tensor(0.00032933347, shape=(), dtype=float32)\n",
            "\n",
            "Epoch  1  final_cost:  tf.Tensor(0.0018888331, shape=(), dtype=float32)  Batch Loss:  tf.Tensor(0.0018888331, shape=(), dtype=float32)\n",
            "\n",
            "Epoch  1  final_cost:  tf.Tensor(0.00032651608, shape=(), dtype=float32)  Batch Loss:  tf.Tensor(0.00032651608, shape=(), dtype=float32)\n",
            "\n",
            "Epoch  1  final_cost:  tf.Tensor(0.0018749863, shape=(), dtype=float32)  Batch Loss:  tf.Tensor(0.0018749863, shape=(), dtype=float32)\n",
            "\n",
            "Epoch  1  final_cost:  tf.Tensor(0.0018677992, shape=(), dtype=float32)  Batch Loss:  tf.Tensor(0.0018677992, shape=(), dtype=float32)\n",
            "\n",
            "Epoch  1  final_cost:  tf.Tensor(0.00032221785, shape=(), dtype=float32)  Batch Loss:  tf.Tensor(0.00032221785, shape=(), dtype=float32)\n",
            "\n",
            "Epoch  1  final_cost:  tf.Tensor(0.0016761706, shape=(), dtype=float32)  Batch Loss:  tf.Tensor(0.0016761706, shape=(), dtype=float32)\n",
            "\n",
            "Epoch  1  final_cost:  tf.Tensor(0.0018456754, shape=(), dtype=float32)  Batch Loss:  tf.Tensor(0.0018456754, shape=(), dtype=float32)\n",
            "\n",
            "Epoch  1  final_cost:  tf.Tensor(0.00031785446, shape=(), dtype=float32)  Batch Loss:  tf.Tensor(0.00031785446, shape=(), dtype=float32)\n",
            "\n",
            "Epoch  1  final_cost:  tf.Tensor(0.0016562509, shape=(), dtype=float32)  Batch Loss:  tf.Tensor(0.0016562509, shape=(), dtype=float32)\n",
            "\n",
            "Epoch  1  final_cost:  tf.Tensor(0.0016495774, shape=(), dtype=float32)  Batch Loss:  tf.Tensor(0.0016495774, shape=(), dtype=float32)\n",
            "\n",
            "Epoch  1  final_cost:  tf.Tensor(0.00031350684, shape=(), dtype=float32)  Batch Loss:  tf.Tensor(0.00031350684, shape=(), dtype=float32)\n",
            "\n",
            "Epoch  1  final_cost:  tf.Tensor(0.0018082224, shape=(), dtype=float32)  Batch Loss:  tf.Tensor(0.0018082224, shape=(), dtype=float32)\n",
            "\n",
            "Epoch  1  final_cost:  tf.Tensor(0.00031066098, shape=(), dtype=float32)  Batch Loss:  tf.Tensor(0.00031066098, shape=(), dtype=float32)\n",
            "\n",
            "Epoch  1  final_cost:  tf.Tensor(0.00030929066, shape=(), dtype=float32)  Batch Loss:  tf.Tensor(0.00030929066, shape=(), dtype=float32)\n",
            "\n",
            "Epoch  1  final_cost:  tf.Tensor(0.0017871971, shape=(), dtype=float32)  Batch Loss:  tf.Tensor(0.0017871971, shape=(), dtype=float32)\n",
            "\n",
            "Epoch  1  final_cost:  tf.Tensor(0.0017802647, shape=(), dtype=float32)  Batch Loss:  tf.Tensor(0.0017802647, shape=(), dtype=float32)\n",
            "\n",
            "Epoch  1  final_cost:  tf.Tensor(0.0016049145, shape=(), dtype=float32)  Batch Loss:  tf.Tensor(0.0016049145, shape=(), dtype=float32)\n",
            "\n",
            "Epoch  1  final_cost:  tf.Tensor(0.00030379836, shape=(), dtype=float32)  Batch Loss:  tf.Tensor(0.00030379836, shape=(), dtype=float32)\n",
            "\n",
            "Epoch  1  final_cost:  tf.Tensor(0.0017583764, shape=(), dtype=float32)  Batch Loss:  tf.Tensor(0.0017583764, shape=(), dtype=float32)\n",
            "\n",
            "Epoch  1  final_cost:  tf.Tensor(0.0017510119, shape=(), dtype=float32)  Batch Loss:  tf.Tensor(0.0017510119, shape=(), dtype=float32)\n",
            "\n",
            "Epoch  1  final_cost:  tf.Tensor(0.001743312, shape=(), dtype=float32)  Batch Loss:  tf.Tensor(0.001743312, shape=(), dtype=float32)\n",
            "\n",
            "Epoch  1  final_cost:  tf.Tensor(0.0015715348, shape=(), dtype=float32)  Batch Loss:  tf.Tensor(0.0015715348, shape=(), dtype=float32)\n",
            "\n",
            "Epoch  1  final_cost:  tf.Tensor(0.0015643269, shape=(), dtype=float32)  Batch Loss:  tf.Tensor(0.0015643269, shape=(), dtype=float32)\n",
            "\n",
            "Epoch  1  final_cost:  tf.Tensor(0.00029517026, shape=(), dtype=float32)  Batch Loss:  tf.Tensor(0.00029517026, shape=(), dtype=float32)\n",
            "\n",
            "Epoch  1  final_cost:  tf.Tensor(0.00155029, shape=(), dtype=float32)  Batch Loss:  tf.Tensor(0.00155029, shape=(), dtype=float32)\n",
            "\n",
            "Epoch  1  final_cost:  tf.Tensor(0.0015434201, shape=(), dtype=float32)  Batch Loss:  tf.Tensor(0.0015434201, shape=(), dtype=float32)\n",
            "\n",
            "Epoch  1  final_cost:  tf.Tensor(0.0016958683, shape=(), dtype=float32)  Batch Loss:  tf.Tensor(0.0016958683, shape=(), dtype=float32)\n",
            "\n",
            "Epoch  1  final_cost:  tf.Tensor(0.0015292334, shape=(), dtype=float32)  Batch Loss:  tf.Tensor(0.0015292334, shape=(), dtype=float32)\n",
            "\n",
            "Epoch  1  final_cost:  tf.Tensor(0.00028800382, shape=(), dtype=float32)  Batch Loss:  tf.Tensor(0.00028800382, shape=(), dtype=float32)\n",
            "\n",
            "Epoch  1  final_cost:  tf.Tensor(0.0015152879, shape=(), dtype=float32)  Batch Loss:  tf.Tensor(0.0015152879, shape=(), dtype=float32)\n",
            "\n",
            "Epoch  1  final_cost:  tf.Tensor(0.0016645496, shape=(), dtype=float32)  Batch Loss:  tf.Tensor(0.0016645496, shape=(), dtype=float32)\n",
            "\n",
            "Epoch  1  final_cost:  tf.Tensor(0.0016567127, shape=(), dtype=float32)  Batch Loss:  tf.Tensor(0.0016567127, shape=(), dtype=float32)\n",
            "\n",
            "Epoch  1  final_cost:  tf.Tensor(0.001648677, shape=(), dtype=float32)  Batch Loss:  tf.Tensor(0.001648677, shape=(), dtype=float32)\n",
            "\n",
            "Epoch  1  final_cost:  tf.Tensor(0.0002809428, shape=(), dtype=float32)  Batch Loss:  tf.Tensor(0.0002809428, shape=(), dtype=float32)\n",
            "\n",
            "Epoch  1  final_cost:  tf.Tensor(0.0014803535, shape=(), dtype=float32)  Batch Loss:  tf.Tensor(0.0014803535, shape=(), dtype=float32)\n",
            "\n",
            "Epoch  1  final_cost:  tf.Tensor(0.00027820663, shape=(), dtype=float32)  Batch Loss:  tf.Tensor(0.00027820663, shape=(), dtype=float32)\n",
            "\n",
            "Epoch  1  final_cost:  tf.Tensor(0.0016183476, shape=(), dtype=float32)  Batch Loss:  tf.Tensor(0.0016183476, shape=(), dtype=float32)\n",
            "\n",
            "Epoch  1  final_cost:  tf.Tensor(0.0002755971, shape=(), dtype=float32)  Batch Loss:  tf.Tensor(0.0002755971, shape=(), dtype=float32)\n",
            "\n",
            "Epoch  1  final_cost:  tf.Tensor(0.0016044404, shape=(), dtype=float32)  Batch Loss:  tf.Tensor(0.0016044404, shape=(), dtype=float32)\n",
            "\n",
            "Epoch  1  final_cost:  tf.Tensor(0.0014487817, shape=(), dtype=float32)  Batch Loss:  tf.Tensor(0.0014487817, shape=(), dtype=float32)\n",
            "\n",
            "Epoch  1  final_cost:  tf.Tensor(0.00027179293, shape=(), dtype=float32)  Batch Loss:  tf.Tensor(0.00027179293, shape=(), dtype=float32)\n",
            "\n",
            "Epoch  1  final_cost:  tf.Tensor(0.0015839571, shape=(), dtype=float32)  Batch Loss:  tf.Tensor(0.0015839571, shape=(), dtype=float32)\n",
            "\n",
            "Epoch  1  final_cost:  tf.Tensor(0.0014306863, shape=(), dtype=float32)  Batch Loss:  tf.Tensor(0.0014306863, shape=(), dtype=float32)\n",
            "\n",
            "Epoch  1  final_cost:  tf.Tensor(0.0002680823, shape=(), dtype=float32)  Batch Loss:  tf.Tensor(0.0002680823, shape=(), dtype=float32)\n",
            "\n",
            "Epoch  1  final_cost:  tf.Tensor(0.0014188916, shape=(), dtype=float32)  Batch Loss:  tf.Tensor(0.0014188916, shape=(), dtype=float32)\n",
            "\n",
            "Epoch  1  final_cost:  tf.Tensor(0.0015574667, shape=(), dtype=float32)  Batch Loss:  tf.Tensor(0.0015574667, shape=(), dtype=float32)\n",
            "\n",
            "Epoch  1  final_cost:  tf.Tensor(0.0014070715, shape=(), dtype=float32)  Batch Loss:  tf.Tensor(0.0014070715, shape=(), dtype=float32)\n",
            "\n",
            "Epoch  1  final_cost:  tf.Tensor(0.00026323172, shape=(), dtype=float32)  Batch Loss:  tf.Tensor(0.00026323172, shape=(), dtype=float32)\n",
            "\n",
            "Epoch  1  final_cost:  tf.Tensor(0.0015375701, shape=(), dtype=float32)  Batch Loss:  tf.Tensor(0.0015375701, shape=(), dtype=float32)\n",
            "\n",
            "Epoch  1  final_cost:  tf.Tensor(0.00026087053, shape=(), dtype=float32)  Batch Loss:  tf.Tensor(0.00026087053, shape=(), dtype=float32)\n",
            "\n",
            "Epoch  1  final_cost:  tf.Tensor(0.001384104, shape=(), dtype=float32)  Batch Loss:  tf.Tensor(0.001384104, shape=(), dtype=float32)\n",
            "\n",
            "Epoch  1  final_cost:  tf.Tensor(0.0015188005, shape=(), dtype=float32)  Batch Loss:  tf.Tensor(0.0015188005, shape=(), dtype=float32)\n",
            "\n",
            "Epoch  1  final_cost:  tf.Tensor(0.0013728305, shape=(), dtype=float32)  Batch Loss:  tf.Tensor(0.0013728305, shape=(), dtype=float32)\n",
            "\n",
            "Epoch  1  final_cost:  tf.Tensor(0.000256244, shape=(), dtype=float32)  Batch Loss:  tf.Tensor(0.000256244, shape=(), dtype=float32)\n",
            "\n",
            "Epoch  1  final_cost:  tf.Tensor(0.00025512977, shape=(), dtype=float32)  Batch Loss:  tf.Tensor(0.00025512977, shape=(), dtype=float32)\n",
            "\n",
            "Epoch  1  final_cost:  tf.Tensor(0.00025407787, shape=(), dtype=float32)  Batch Loss:  tf.Tensor(0.00025407787, shape=(), dtype=float32)\n",
            "\n",
            "Epoch  1  final_cost:  tf.Tensor(0.0013520624, shape=(), dtype=float32)  Batch Loss:  tf.Tensor(0.0013520624, shape=(), dtype=float32)\n",
            "\n",
            "Epoch  1  final_cost:  tf.Tensor(0.0014837764, shape=(), dtype=float32)  Batch Loss:  tf.Tensor(0.0014837764, shape=(), dtype=float32)\n",
            "\n",
            "Epoch  1  final_cost:  tf.Tensor(0.001478119, shape=(), dtype=float32)  Batch Loss:  tf.Tensor(0.001478119, shape=(), dtype=float32)\n",
            "\n",
            "Epoch  1  final_cost:  tf.Tensor(0.0013369258, shape=(), dtype=float32)  Batch Loss:  tf.Tensor(0.0013369258, shape=(), dtype=float32)\n",
            "\n",
            "Epoch  1  final_cost:  tf.Tensor(0.00024880888, shape=(), dtype=float32)  Batch Loss:  tf.Tensor(0.00024880888, shape=(), dtype=float32)\n",
            "\n",
            "Epoch  1  final_cost:  tf.Tensor(0.00024776833, shape=(), dtype=float32)  Batch Loss:  tf.Tensor(0.00024776833, shape=(), dtype=float32)\n",
            "\n",
            "Epoch  1  final_cost:  tf.Tensor(0.0013219323, shape=(), dtype=float32)  Batch Loss:  tf.Tensor(0.0013219323, shape=(), dtype=float32)\n",
            "\n",
            "Epoch  1  final_cost:  tf.Tensor(0.0013171439, shape=(), dtype=float32)  Batch Loss:  tf.Tensor(0.0013171439, shape=(), dtype=float32)\n",
            "\n",
            "Epoch  1  final_cost:  tf.Tensor(0.0013121933, shape=(), dtype=float32)  Batch Loss:  tf.Tensor(0.0013121933, shape=(), dtype=float32)\n",
            "\n",
            "Epoch  1  final_cost:  tf.Tensor(0.0014388736, shape=(), dtype=float32)  Batch Loss:  tf.Tensor(0.0014388736, shape=(), dtype=float32)\n",
            "\n",
            "Epoch  1  final_cost:  tf.Tensor(0.00024264085, shape=(), dtype=float32)  Batch Loss:  tf.Tensor(0.00024264085, shape=(), dtype=float32)\n",
            "\n",
            "Epoch  1  final_cost:  tf.Tensor(0.0012969351, shape=(), dtype=float32)  Batch Loss:  tf.Tensor(0.0012969351, shape=(), dtype=float32)\n",
            "\n",
            "Epoch  1  final_cost:  tf.Tensor(0.00024060813, shape=(), dtype=float32)  Batch Loss:  tf.Tensor(0.00024060813, shape=(), dtype=float32)\n",
            "\n",
            "Epoch  1  final_cost:  tf.Tensor(0.0012873034, shape=(), dtype=float32)  Batch Loss:  tf.Tensor(0.0012873034, shape=(), dtype=float32)\n",
            "\n",
            "Epoch  1  final_cost:  tf.Tensor(0.0012825241, shape=(), dtype=float32)  Batch Loss:  tf.Tensor(0.0012825241, shape=(), dtype=float32)\n",
            "\n",
            "Epoch  1  final_cost:  tf.Tensor(0.00023765319, shape=(), dtype=float32)  Batch Loss:  tf.Tensor(0.00023765319, shape=(), dtype=float32)\n",
            "\n",
            "Epoch  1  final_cost:  tf.Tensor(0.001273069, shape=(), dtype=float32)  Batch Loss:  tf.Tensor(0.001273069, shape=(), dtype=float32)\n",
            "\n",
            "Epoch  1  final_cost:  tf.Tensor(0.0013957263, shape=(), dtype=float32)  Batch Loss:  tf.Tensor(0.0013957263, shape=(), dtype=float32)\n",
            "\n",
            "Epoch  1  final_cost:  tf.Tensor(0.0012634784, shape=(), dtype=float32)  Batch Loss:  tf.Tensor(0.0012634784, shape=(), dtype=float32)\n",
            "\n",
            "Epoch  1  final_cost:  tf.Tensor(0.0012584678, shape=(), dtype=float32)  Batch Loss:  tf.Tensor(0.0012584678, shape=(), dtype=float32)\n",
            "\n",
            "Epoch  1  final_cost:  tf.Tensor(0.00125336, shape=(), dtype=float32)  Batch Loss:  tf.Tensor(0.00125336, shape=(), dtype=float32)\n",
            "\n",
            "Epoch  1  final_cost:  tf.Tensor(0.0012481675, shape=(), dtype=float32)  Batch Loss:  tf.Tensor(0.0012481675, shape=(), dtype=float32)\n",
            "\n",
            "Epoch  1  final_cost:  tf.Tensor(0.00023066091, shape=(), dtype=float32)  Batch Loss:  tf.Tensor(0.00023066091, shape=(), dtype=float32)\n",
            "\n",
            "Epoch  1  final_cost:  tf.Tensor(0.0012380687, shape=(), dtype=float32)  Batch Loss:  tf.Tensor(0.0012380687, shape=(), dtype=float32)\n",
            "\n",
            "Epoch  1  final_cost:  tf.Tensor(0.0013565222, shape=(), dtype=float32)  Batch Loss:  tf.Tensor(0.0013565222, shape=(), dtype=float32)\n",
            "\n",
            "Epoch  1  final_cost:  tf.Tensor(0.0013508603, shape=(), dtype=float32)  Batch Loss:  tf.Tensor(0.0013508603, shape=(), dtype=float32)\n",
            "\n",
            "Epoch  1  final_cost:  tf.Tensor(0.001345044, shape=(), dtype=float32)  Batch Loss:  tf.Tensor(0.001345044, shape=(), dtype=float32)\n",
            "\n",
            "Epoch  1  final_cost:  tf.Tensor(0.0013390935, shape=(), dtype=float32)  Batch Loss:  tf.Tensor(0.0013390935, shape=(), dtype=float32)\n",
            "\n",
            "Epoch  1  final_cost:  tf.Tensor(0.0013330292, shape=(), dtype=float32)  Batch Loss:  tf.Tensor(0.0013330292, shape=(), dtype=float32)\n",
            "\n",
            "Epoch  1  final_cost:  tf.Tensor(0.0012065738, shape=(), dtype=float32)  Batch Loss:  tf.Tensor(0.0012065738, shape=(), dtype=float32)\n",
            "\n",
            "Epoch  1  final_cost:  tf.Tensor(0.0013207108, shape=(), dtype=float32)  Batch Loss:  tf.Tensor(0.0013207108, shape=(), dtype=float32)\n",
            "\n",
            "Epoch  1  final_cost:  tf.Tensor(0.0013144767, shape=(), dtype=float32)  Batch Loss:  tf.Tensor(0.0013144767, shape=(), dtype=float32)\n",
            "\n",
            "Epoch  1  final_cost:  tf.Tensor(0.0013081795, shape=(), dtype=float32)  Batch Loss:  tf.Tensor(0.0013081795, shape=(), dtype=float32)\n",
            "\n",
            "Epoch  1  final_cost:  tf.Tensor(0.0013018345, shape=(), dtype=float32)  Batch Loss:  tf.Tensor(0.0013018345, shape=(), dtype=float32)\n",
            "\n",
            "Epoch  1  final_cost:  tf.Tensor(0.0012954469, shape=(), dtype=float32)  Batch Loss:  tf.Tensor(0.0012954469, shape=(), dtype=float32)\n",
            "\n",
            "Epoch  1  final_cost:  tf.Tensor(0.0011727954, shape=(), dtype=float32)  Batch Loss:  tf.Tensor(0.0011727954, shape=(), dtype=float32)\n",
            "\n",
            "Epoch  1  final_cost:  tf.Tensor(0.00021599003, shape=(), dtype=float32)  Batch Loss:  tf.Tensor(0.00021599003, shape=(), dtype=float32)\n",
            "\n",
            "Epoch  1  final_cost:  tf.Tensor(0.00021498515, shape=(), dtype=float32)  Batch Loss:  tf.Tensor(0.00021498515, shape=(), dtype=float32)\n",
            "\n",
            "Epoch  1  final_cost:  tf.Tensor(0.000214044, shape=(), dtype=float32)  Batch Loss:  tf.Tensor(0.000214044, shape=(), dtype=float32)\n",
            "\n",
            "Epoch  1  final_cost:  tf.Tensor(0.0012666273, shape=(), dtype=float32)  Batch Loss:  tf.Tensor(0.0012666273, shape=(), dtype=float32)\n",
            "\n",
            "Epoch  1  final_cost:  tf.Tensor(0.00021225773, shape=(), dtype=float32)  Batch Loss:  tf.Tensor(0.00021225773, shape=(), dtype=float32)\n",
            "\n",
            "Epoch  1  final_cost:  tf.Tensor(0.0011441152, shape=(), dtype=float32)  Batch Loss:  tf.Tensor(0.0011441152, shape=(), dtype=float32)\n",
            "\n",
            "Epoch  1  final_cost:  tf.Tensor(0.0012521497, shape=(), dtype=float32)  Batch Loss:  tf.Tensor(0.0012521497, shape=(), dtype=float32)\n",
            "\n",
            "Epoch  1  final_cost:  tf.Tensor(0.0012472232, shape=(), dtype=float32)  Batch Loss:  tf.Tensor(0.0012472232, shape=(), dtype=float32)\n",
            "\n",
            "Epoch  1  final_cost:  tf.Tensor(0.00020877132, shape=(), dtype=float32)  Batch Loss:  tf.Tensor(0.00020877132, shape=(), dtype=float32)\n",
            "\n",
            "Epoch  1  final_cost:  tf.Tensor(0.0012374906, shape=(), dtype=float32)  Batch Loss:  tf.Tensor(0.0012374906, shape=(), dtype=float32)\n",
            "\n",
            "Epoch  1  final_cost:  tf.Tensor(0.0012326662, shape=(), dtype=float32)  Batch Loss:  tf.Tensor(0.0012326662, shape=(), dtype=float32)\n",
            "\n",
            "Epoch  1  final_cost:  tf.Tensor(0.0011180273, shape=(), dtype=float32)  Batch Loss:  tf.Tensor(0.0011180273, shape=(), dtype=float32)\n",
            "\n",
            "Epoch  1  final_cost:  tf.Tensor(0.0011135417, shape=(), dtype=float32)  Batch Loss:  tf.Tensor(0.0011135417, shape=(), dtype=float32)\n",
            "\n",
            "Epoch  1  final_cost:  tf.Tensor(0.0011090089, shape=(), dtype=float32)  Batch Loss:  tf.Tensor(0.0011090089, shape=(), dtype=float32)\n",
            "\n",
            "Epoch  1  final_cost:  tf.Tensor(0.0011044375, shape=(), dtype=float32)  Batch Loss:  tf.Tensor(0.0011044375, shape=(), dtype=float32)\n",
            "\n",
            "Epoch  1  final_cost:  tf.Tensor(0.00020263408, shape=(), dtype=float32)  Batch Loss:  tf.Tensor(0.00020263408, shape=(), dtype=float32)\n",
            "\n",
            "Epoch  1  final_cost:  tf.Tensor(0.0010956088, shape=(), dtype=float32)  Batch Loss:  tf.Tensor(0.0010956088, shape=(), dtype=float32)\n",
            "\n",
            "Epoch  1  final_cost:  tf.Tensor(0.0010913241, shape=(), dtype=float32)  Batch Loss:  tf.Tensor(0.0010913241, shape=(), dtype=float32)\n",
            "\n",
            "Epoch  1  final_cost:  tf.Tensor(0.0010869871, shape=(), dtype=float32)  Batch Loss:  tf.Tensor(0.0010869871, shape=(), dtype=float32)\n",
            "\n",
            "Epoch  1  final_cost:  tf.Tensor(0.00019926071, shape=(), dtype=float32)  Batch Loss:  tf.Tensor(0.00019926071, shape=(), dtype=float32)\n",
            "\n",
            "Epoch  1  final_cost:  tf.Tensor(0.00019846347, shape=(), dtype=float32)  Batch Loss:  tf.Tensor(0.00019846347, shape=(), dtype=float32)\n",
            "\n",
            "Epoch  1  final_cost:  tf.Tensor(0.0011796242, shape=(), dtype=float32)  Batch Loss:  tf.Tensor(0.0011796242, shape=(), dtype=float32)\n",
            "\n",
            "Epoch  1  final_cost:  tf.Tensor(0.0011753337, shape=(), dtype=float32)  Batch Loss:  tf.Tensor(0.0011753337, shape=(), dtype=float32)\n",
            "\n",
            "Epoch  1  final_cost:  tf.Tensor(0.0010670378, shape=(), dtype=float32)  Batch Loss:  tf.Tensor(0.0010670378, shape=(), dtype=float32)\n",
            "\n",
            "Epoch  1  final_cost:  tf.Tensor(0.0010629833, shape=(), dtype=float32)  Batch Loss:  tf.Tensor(0.0010629833, shape=(), dtype=float32)\n",
            "\n",
            "Epoch  1  final_cost:  tf.Tensor(0.0011618058, shape=(), dtype=float32)  Batch Loss:  tf.Tensor(0.0011618058, shape=(), dtype=float32)\n",
            "\n",
            "Epoch  1  final_cost:  tf.Tensor(0.0011571194, shape=(), dtype=float32)  Batch Loss:  tf.Tensor(0.0011571194, shape=(), dtype=float32)\n",
            "\n",
            "Epoch  1  final_cost:  tf.Tensor(0.0010503741, shape=(), dtype=float32)  Batch Loss:  tf.Tensor(0.0010503741, shape=(), dtype=float32)\n",
            "\n",
            "Epoch  1  final_cost:  tf.Tensor(0.00019207134, shape=(), dtype=float32)  Batch Loss:  tf.Tensor(0.00019207134, shape=(), dtype=float32)\n",
            "\n",
            "Epoch  1  final_cost:  tf.Tensor(0.0001912938, shape=(), dtype=float32)  Batch Loss:  tf.Tensor(0.0001912938, shape=(), dtype=float32)\n",
            "\n",
            "Epoch  1  final_cost:  tf.Tensor(0.0011390729, shape=(), dtype=float32)  Batch Loss:  tf.Tensor(0.0011390729, shape=(), dtype=float32)\n",
            "\n",
            "Epoch  1  final_cost:  tf.Tensor(0.0010346919, shape=(), dtype=float32)  Batch Loss:  tf.Tensor(0.0010346919, shape=(), dtype=float32)\n",
            "\n",
            "Epoch  1  final_cost:  tf.Tensor(0.00018905906, shape=(), dtype=float32)  Batch Loss:  tf.Tensor(0.00018905906, shape=(), dtype=float32)\n",
            "\n",
            "Epoch  1  final_cost:  tf.Tensor(0.0011266702, shape=(), dtype=float32)  Batch Loss:  tf.Tensor(0.0011266702, shape=(), dtype=float32)\n",
            "\n",
            "Epoch  1  final_cost:  tf.Tensor(0.0011225871, shape=(), dtype=float32)  Batch Loss:  tf.Tensor(0.0011225871, shape=(), dtype=float32)\n",
            "\n",
            "Epoch  1  final_cost:  tf.Tensor(0.00018687332, shape=(), dtype=float32)  Batch Loss:  tf.Tensor(0.00018687332, shape=(), dtype=float32)\n",
            "\n",
            "Epoch  1  final_cost:  tf.Tensor(0.0011144896, shape=(), dtype=float32)  Batch Loss:  tf.Tensor(0.0011144896, shape=(), dtype=float32)\n",
            "\n",
            "Epoch  1  final_cost:  tf.Tensor(0.0010127933, shape=(), dtype=float32)  Batch Loss:  tf.Tensor(0.0010127933, shape=(), dtype=float32)\n",
            "\n",
            "Epoch  1  final_cost:  tf.Tensor(0.0010091154, shape=(), dtype=float32)  Batch Loss:  tf.Tensor(0.0010091154, shape=(), dtype=float32)\n",
            "\n",
            "Epoch  1  final_cost:  tf.Tensor(0.00018399348, shape=(), dtype=float32)  Batch Loss:  tf.Tensor(0.00018399348, shape=(), dtype=float32)\n",
            "\n",
            "Epoch  1  final_cost:  tf.Tensor(0.0010983701, shape=(), dtype=float32)  Batch Loss:  tf.Tensor(0.0010983701, shape=(), dtype=float32)\n",
            "\n",
            "Epoch  1  final_cost:  tf.Tensor(0.0009983757, shape=(), dtype=float32)  Batch Loss:  tf.Tensor(0.0009983757, shape=(), dtype=float32)\n",
            "\n",
            "Epoch  1  final_cost:  tf.Tensor(0.0010903622, shape=(), dtype=float32)  Batch Loss:  tf.Tensor(0.0010903622, shape=(), dtype=float32)\n",
            "\n",
            "Epoch  1  final_cost:  tf.Tensor(0.0010862085, shape=(), dtype=float32)  Batch Loss:  tf.Tensor(0.0010862085, shape=(), dtype=float32)\n",
            "\n",
            "Epoch  1  final_cost:  tf.Tensor(0.00018041972, shape=(), dtype=float32)  Batch Loss:  tf.Tensor(0.00018041972, shape=(), dtype=float32)\n",
            "\n",
            "Epoch  1  final_cost:  tf.Tensor(0.0010780477, shape=(), dtype=float32)  Batch Loss:  tf.Tensor(0.0010780477, shape=(), dtype=float32)\n",
            "\n",
            "Epoch  1  final_cost:  tf.Tensor(0.0010740224, shape=(), dtype=float32)  Batch Loss:  tf.Tensor(0.0010740224, shape=(), dtype=float32)\n",
            "\n",
            "Epoch  1  final_cost:  tf.Tensor(0.0010698929, shape=(), dtype=float32)  Batch Loss:  tf.Tensor(0.0010698929, shape=(), dtype=float32)\n",
            "\n",
            "Epoch  1  final_cost:  tf.Tensor(0.00017756814, shape=(), dtype=float32)  Batch Loss:  tf.Tensor(0.00017756814, shape=(), dtype=float32)\n",
            "\n",
            "Epoch  1  final_cost:  tf.Tensor(0.00017688317, shape=(), dtype=float32)  Batch Loss:  tf.Tensor(0.00017688317, shape=(), dtype=float32)\n",
            "\n",
            "Epoch  1  final_cost:  tf.Tensor(0.0009659637, shape=(), dtype=float32)  Batch Loss:  tf.Tensor(0.0009659637, shape=(), dtype=float32)\n",
            "\n",
            "Epoch  1  final_cost:  tf.Tensor(0.0010545859, shape=(), dtype=float32)  Batch Loss:  tf.Tensor(0.0010545859, shape=(), dtype=float32)\n",
            "\n",
            "Epoch  1  final_cost:  tf.Tensor(0.0010508064, shape=(), dtype=float32)  Batch Loss:  tf.Tensor(0.0010508064, shape=(), dtype=float32)\n",
            "\n",
            "Epoch  1  final_cost:  tf.Tensor(0.0010469141, shape=(), dtype=float32)  Batch Loss:  tf.Tensor(0.0010469141, shape=(), dtype=float32)\n",
            "\n",
            "Epoch  1  final_cost:  tf.Tensor(0.00017354154, shape=(), dtype=float32)  Batch Loss:  tf.Tensor(0.00017354154, shape=(), dtype=float32)\n",
            "\n",
            "Epoch  1  final_cost:  tf.Tensor(0.0009489645, shape=(), dtype=float32)  Batch Loss:  tf.Tensor(0.0009489645, shape=(), dtype=float32)\n",
            "\n",
            "Epoch  1  final_cost:  tf.Tensor(0.0009456207, shape=(), dtype=float32)  Batch Loss:  tf.Tensor(0.0009456207, shape=(), dtype=float32)\n",
            "\n",
            "Epoch  1  final_cost:  tf.Tensor(0.00017157008, shape=(), dtype=float32)  Batch Loss:  tf.Tensor(0.00017157008, shape=(), dtype=float32)\n",
            "\n",
            "Epoch  1  final_cost:  tf.Tensor(0.0009391, shape=(), dtype=float32)  Batch Loss:  tf.Tensor(0.0009391, shape=(), dtype=float32)\n",
            "\n",
            "Epoch  1  final_cost:  tf.Tensor(0.00093590294, shape=(), dtype=float32)  Batch Loss:  tf.Tensor(0.00093590294, shape=(), dtype=float32)\n",
            "\n",
            "Epoch  1  final_cost:  tf.Tensor(0.000169679, shape=(), dtype=float32)  Batch Loss:  tf.Tensor(0.000169679, shape=(), dtype=float32)\n",
            "\n",
            "Epoch  1  final_cost:  tf.Tensor(0.00016907982, shape=(), dtype=float32)  Batch Loss:  tf.Tensor(0.00016907982, shape=(), dtype=float32)\n",
            "\n",
            "Epoch  1  final_cost:  tf.Tensor(0.00016851493, shape=(), dtype=float32)  Batch Loss:  tf.Tensor(0.00016851493, shape=(), dtype=float32)\n",
            "\n",
            "Epoch  1  final_cost:  tf.Tensor(0.00016798139, shape=(), dtype=float32)  Batch Loss:  tf.Tensor(0.00016798139, shape=(), dtype=float32)\n",
            "\n",
            "Epoch  1  final_cost:  tf.Tensor(0.00092195696, shape=(), dtype=float32)  Batch Loss:  tf.Tensor(0.00092195696, shape=(), dtype=float32)\n",
            "\n",
            "Epoch  1  final_cost:  tf.Tensor(0.00091944734, shape=(), dtype=float32)  Batch Loss:  tf.Tensor(0.00091944734, shape=(), dtype=float32)\n",
            "\n",
            "Epoch  1  final_cost:  tf.Tensor(0.000916817, shape=(), dtype=float32)  Batch Loss:  tf.Tensor(0.000916817, shape=(), dtype=float32)\n",
            "\n",
            "Epoch  1  final_cost:  tf.Tensor(0.0009140733, shape=(), dtype=float32)  Batch Loss:  tf.Tensor(0.0009140733, shape=(), dtype=float32)\n",
            "\n",
            "Epoch  1  final_cost:  tf.Tensor(0.000997368, shape=(), dtype=float32)  Batch Loss:  tf.Tensor(0.000997368, shape=(), dtype=float32)\n",
            "\n",
            "Epoch  1  final_cost:  tf.Tensor(0.00016470578, shape=(), dtype=float32)  Batch Loss:  tf.Tensor(0.00016470578, shape=(), dtype=float32)\n",
            "\n",
            "Epoch  1  final_cost:  tf.Tensor(0.00090554054, shape=(), dtype=float32)  Batch Loss:  tf.Tensor(0.00090554054, shape=(), dtype=float32)\n",
            "\n",
            "Epoch  1  final_cost:  tf.Tensor(0.00016359279, shape=(), dtype=float32)  Batch Loss:  tf.Tensor(0.00016359279, shape=(), dtype=float32)\n",
            "\n",
            "Epoch  1  final_cost:  tf.Tensor(0.00090011384, shape=(), dtype=float32)  Batch Loss:  tf.Tensor(0.00090011384, shape=(), dtype=float32)\n",
            "\n",
            "Epoch  1  final_cost:  tf.Tensor(0.00016251931, shape=(), dtype=float32)  Batch Loss:  tf.Tensor(0.00016251931, shape=(), dtype=float32)\n",
            "\n",
            "Epoch  1  final_cost:  tf.Tensor(0.00016200633, shape=(), dtype=float32)  Batch Loss:  tf.Tensor(0.00016200633, shape=(), dtype=float32)\n",
            "\n",
            "Completed iteration:  0  final loss:  0.00016200633\n"
          ],
          "name": "stdout"
        }
      ]
    },
    {
      "cell_type": "code",
      "metadata": {
        "id": "KEASgZnQhfk7",
        "colab_type": "code",
        "outputId": "cc161dd9-e9cb-47a6-f3e5-bdc587bb8ac2",
        "colab": {
          "base_uri": "https://localhost:8080/",
          "height": 283
        }
      },
      "source": [
        "plt.plot(loss_history)\n",
        "\n",
        "plt.ylabel('loss value')\n",
        "plt.xlabel('batches')\n",
        "\n",
        "plt.show()"
      ],
      "execution_count": 0,
      "outputs": [
        {
          "output_type": "display_data",
          "data": {
            "image/png": "[encoded data removed]",
            "text/plain": [
              "<Figure size 432x288 with 1 Axes>"
            ]
          },
          "metadata": {
            "tags": []
          }
        }
      ]
    },
    {
      "cell_type": "markdown",
      "metadata": {
        "id": "yMPodpPV8BWk",
        "colab_type": "text"
      },
      "source": [
        "**Note: Neural Network output oscillates**"
      ]
    },
    {
      "cell_type": "markdown",
      "metadata": {
        "id": "AEX1zI9rT4E9",
        "colab_type": "text"
      },
      "source": [
        "## Test Model"
      ]
    },
    {
      "cell_type": "code",
      "metadata": {
        "id": "nrR82CblUBNJ",
        "colab_type": "code",
        "colab": {}
      },
      "source": [
        "input_sample = np.array(\n",
        "  [[\n",
        "    np.eye(4)[1],\n",
        "    np.eye(4)[0],\n",
        "    np.eye(4)[1]\n",
        "  ]]\n",
        ")"
      ],
      "execution_count": 0,
      "outputs": []
    },
    {
      "cell_type": "code",
      "metadata": {
        "id": "UZDCfnxuUCb3",
        "colab_type": "code",
        "colab": {}
      },
      "source": [
        "register_sample = np.array(\n",
        "  [[1., 0., 1.]]\n",
        ")"
      ],
      "execution_count": 0,
      "outputs": []
    },
    {
      "cell_type": "code",
      "metadata": {
        "id": "xkGrj9_MWIIN",
        "colab_type": "code",
        "outputId": "423af107-3acd-48f2-a78f-9148453e4827",
        "colab": {
          "base_uri": "https://localhost:8080/",
          "height": 68
        }
      },
      "source": [
        "input_sample"
      ],
      "execution_count": 0,
      "outputs": [
        {
          "output_type": "execute_result",
          "data": {
            "text/plain": [
              "array([[[0., 1., 0., 0.],\n",
              "        [1., 0., 0., 0.],\n",
              "        [0., 1., 0., 0.]]])"
            ]
          },
          "metadata": {
            "tags": []
          },
          "execution_count": 166
        }
      ]
    },
    {
      "cell_type": "code",
      "metadata": {
        "id": "qF9lRkzwGemk",
        "colab_type": "code",
        "outputId": "7c84b80d-aebd-445b-845e-3160b11be758",
        "colab": {
          "base_uri": "https://localhost:8080/",
          "height": 765
        }
      },
      "source": [
        "epochs = 10\n",
        "loss_history = []\n",
        "max_timesteps = 2\n",
        "reg_lambda = 0.1\n",
        "num_registers = 3\n",
        "\n",
        "for timestep in range(max_timesteps):\n",
        "  print(\"\\ntimestep \", timestep)\n",
        "  print(\"Input registers \", tf.argmax(input_sample, axis=2))\n",
        "  controller, status = model(tf.dtypes.cast(register_sample, \"float32\"))\n",
        "  print(\"\\ncontroller \")\n",
        "  for val in controller:\n",
        "    print(val)\n",
        "  print(\"\\nstatus \", status)\n",
        "  registers = input_sample\n",
        "  for i in range(len(gates)):\n",
        "    output = gateOutput1(gates[i], tf.dtypes.cast(registers, \"float32\"), tf.dtypes.cast(controller[i], tf.float32), M)\n",
        "    print(\"\\noutput-gate \", output)\n",
        "    registers = tf.concat([tf.dtypes.cast(registers, \"float32\"), output], axis=1)\n",
        "\n",
        "  output_registers = []\n",
        "  for i in range(len(gates), len(controller)):\n",
        "    output = dotProduct(registers, controller[i][0])\n",
        "    output_registers.append(output)\n",
        "\n",
        "  output_registers = tf.stack(output_registers, axis=1)\n",
        "  print(\"\\noutput register\\n\", output_registers)\n",
        "  print(\"\\noutput_registers-argmax\\n\", tf.argmax(output_registers, axis=2))\n"
      ],
      "execution_count": 0,
      "outputs": [
        {
          "output_type": "stream",
          "text": [
            "\n",
            "timestep  0\n",
            "Input registers  tf.Tensor([[1 0 1]], shape=(1, 3), dtype=int64)\n",
            "\n",
            "controller \n",
            "tf.Tensor([[0.51348454 0.0199027  0.46661276]], shape=(1, 3), dtype=float32)\n",
            "tf.Tensor([[0.46384263 0.05178851 0.00500909 0.47935978]], shape=(1, 4), dtype=float32)\n",
            "tf.Tensor([[7.0324715e-04 9.9641454e-01 2.3251851e-03 5.5709662e-04]], shape=(1, 4), dtype=float32)\n",
            "tf.Tensor([[0.00584689 0.00143241 0.99144286 0.00127782]], shape=(1, 4), dtype=float32)\n",
            "\n",
            "status  tf.Tensor([[0.00160857]], shape=(1, 1), dtype=float32)\n",
            "\n",
            "output-gate  tf.Tensor([[[0.        0.0199027 0.9800973 0.       ]]], shape=(1, 1, 4), dtype=float32)\n",
            "\n",
            "output register\n",
            " tf.Tensor(\n",
            "[[[5.1788505e-02 4.7839227e-01 4.6981922e-01 0.0000000e+00]\n",
            "  [9.9641454e-01 3.0395200e-03 5.4600887e-04 0.0000000e+00]\n",
            "  [1.4324071e-03 9.9731523e-01 1.2523877e-03 0.0000000e+00]]], shape=(1, 3, 4), dtype=float32)\n",
            "\n",
            "output_registers-argmax\n",
            " tf.Tensor([[1 0 1]], shape=(1, 3), dtype=int64)\n",
            "\n",
            "timestep  1\n",
            "Input registers  tf.Tensor([[1 0 1]], shape=(1, 3), dtype=int64)\n",
            "\n",
            "controller \n",
            "tf.Tensor([[0.51348454 0.0199027  0.46661276]], shape=(1, 3), dtype=float32)\n",
            "tf.Tensor([[0.46384263 0.05178851 0.00500909 0.47935978]], shape=(1, 4), dtype=float32)\n",
            "tf.Tensor([[7.0324715e-04 9.9641454e-01 2.3251851e-03 5.5709662e-04]], shape=(1, 4), dtype=float32)\n",
            "tf.Tensor([[0.00584689 0.00143241 0.99144286 0.00127782]], shape=(1, 4), dtype=float32)\n",
            "\n",
            "status  tf.Tensor([[0.00160857]], shape=(1, 1), dtype=float32)\n",
            "\n",
            "output-gate  tf.Tensor([[[0.        0.0199027 0.9800973 0.       ]]], shape=(1, 1, 4), dtype=float32)\n",
            "\n",
            "output register\n",
            " tf.Tensor(\n",
            "[[[5.1788505e-02 4.7839227e-01 4.6981922e-01 0.0000000e+00]\n",
            "  [9.9641454e-01 3.0395200e-03 5.4600887e-04 0.0000000e+00]\n",
            "  [1.4324071e-03 9.9731523e-01 1.2523877e-03 0.0000000e+00]]], shape=(1, 3, 4), dtype=float32)\n",
            "\n",
            "output_registers-argmax\n",
            " tf.Tensor([[1 0 1]], shape=(1, 3), dtype=int64)\n"
          ],
          "name": "stdout"
        }
      ]
    }
  ]
}